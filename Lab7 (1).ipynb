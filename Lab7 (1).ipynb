{
 "cells": [
  {
   "cell_type": "code",
   "execution_count": null,
   "id": "3afff489",
   "metadata": {},
   "outputs": [],
   "source": []
  },
  {
   "cell_type": "markdown",
   "id": "464e27fb",
   "metadata": {},
   "source": [
    "![![University of Information Technology and Management in Rzeszow, Poland](https://gitlab.wsiz.pl/lgajecki/SA/-/raw/master/wsiz_eng.png)](wsiz_eng.png)\n",
    "\n",
    "# Laboratory 7 - Model selection. Hyperparameter tuning\n",
    "\n",
    "Sprawozdanie $\\ \\ \\ \\ \\ \\ \\ \\ $   Imie: ......Jakub..............  Nazwisko: .......Jop.....  | Nr albumu : ..........w67238........ | Lab1 | Lab2 | Lab3 | Lab4 |Lab5 | Lab5_2+6 | Lab 6_2+7| Razem (max 50 pkt)\n",
    ":--|:--|--|--|--|--|--|--|--|--\n",
    "Efekt PU01 'Ocena rozwiązań problemów przygotowywanych w ramach poszczególnych laboratoriów' | - ocena za wykonanie ćwiczeń i ich interpretację. | \n",
    "\n",
    "[1] https://scikit-learn.org/stable/modules/cross_validation.html\n",
    "\n",
    "[2] https://scikit-learn.org/stable/modules/grid_search.html\n",
    "\n",
    "[3] https://scikit-learn.org/stable/modules/model_evaluation.html\n",
    "\n",
    "[4] https://medium.com/@aleksej.gudkov/ml-model-selection-in-python-examples-and-best-practices-c7cc30b231dc\n",
    "\n",
    "### 7.1 Model selection"
   ]
  },
  {
   "cell_type": "code",
   "execution_count": 9,
   "id": "f7f30110",
   "metadata": {},
   "outputs": [],
   "source": [
    "import numpy as np\n",
    "import pandas as pd\n",
    "from sklearn.model_selection import train_test_split, cross_val_score\n",
    "from sklearn.metrics import accuracy_score\n",
    "from sklearn.ensemble import RandomForestClassifier\n",
    "from sklearn.svm import SVC\n",
    "from sklearn.linear_model import LogisticRegression"
   ]
  },
  {
   "cell_type": "code",
   "execution_count": 10,
   "id": "3578d092",
   "metadata": {},
   "outputs": [],
   "source": [
    "from sklearn.datasets import load_iris\n",
    "# Load dataset\n",
    "data = load_iris()\n",
    "X = data.data  # Features\n",
    "y = data.target  # Target labels\n",
    "# Split into training and testing sets\n",
    "X_train, X_test, y_train, y_test = train_test_split(X, y, test_size=0.4, random_state=42)"
   ]
  },
  {
   "cell_type": "code",
   "execution_count": 11,
   "id": "649f3c88",
   "metadata": {},
   "outputs": [
    {
     "name": "stdout",
     "output_type": "stream",
     "text": [
      "Logistic Regression: Accuracy = 1.00\n",
      "Support Vector Machine: Accuracy = 1.00\n",
      "Random Forest: Accuracy = 0.98\n"
     ]
    }
   ],
   "source": [
    "# Define models\n",
    "models = {\n",
    "    \"Logistic Regression\": LogisticRegression(max_iter=100),\n",
    "    \"Support Vector Machine\": SVC(),\n",
    "    \"Random Forest\": RandomForestClassifier()\n",
    "}\n",
    "# Evaluate each model\n",
    "for name, model in models.items():\n",
    "    model.fit(X_train, y_train)\n",
    "    y_pred = model.predict(X_test)\n",
    "    accuracy = accuracy_score(y_test, y_pred)\n",
    "    print(f\"{name}: Accuracy = {accuracy:.2f}\")"
   ]
  },
  {
   "cell_type": "code",
   "execution_count": 12,
   "id": "6afd1973",
   "metadata": {},
   "outputs": [
    {
     "name": "stdout",
     "output_type": "stream",
     "text": [
      "Logistic Regression: Average Accuracy = 0.97 Folds:[0.96666667 1.         0.93333333 0.96666667 1.        ]\n",
      "Support Vector Machine: Average Accuracy = 0.97 Folds:[0.96666667 0.96666667 0.96666667 0.93333333 1.        ]\n"
     ]
    },
    {
     "name": "stderr",
     "output_type": "stream",
     "text": [
      "/opt/tljh/user/lib/python3.9/site-packages/sklearn/linear_model/_logistic.py:465: ConvergenceWarning: lbfgs failed to converge (status=1):\n",
      "STOP: TOTAL NO. of ITERATIONS REACHED LIMIT.\n",
      "\n",
      "Increase the number of iterations (max_iter) or scale the data as shown in:\n",
      "    https://scikit-learn.org/stable/modules/preprocessing.html\n",
      "Please also refer to the documentation for alternative solver options:\n",
      "    https://scikit-learn.org/stable/modules/linear_model.html#logistic-regression\n",
      "  n_iter_i = _check_optimize_result(\n"
     ]
    },
    {
     "name": "stdout",
     "output_type": "stream",
     "text": [
      "Random Forest: Average Accuracy = 0.97 Folds:[0.96666667 0.96666667 0.93333333 0.96666667 1.        ]\n"
     ]
    }
   ],
   "source": [
    "from sklearn.model_selection import cross_val_score\n",
    "# Perform 5-fold cross-validation\n",
    "for name, model in models.items():\n",
    "    scores = cross_val_score(model, X, y, cv=5)\n",
    "    print(f\"{name}: Average Accuracy = {np.mean(scores):.2f} Folds:{scores}\")"
   ]
  },
  {
   "cell_type": "markdown",
   "id": "08f5cc15",
   "metadata": {},
   "source": [
    "### 7.2 Hyperparameter tuning"
   ]
  },
  {
   "cell_type": "code",
   "execution_count": 13,
   "id": "49f7e4f4",
   "metadata": {},
   "outputs": [
    {
     "name": "stdout",
     "output_type": "stream",
     "text": [
      "Best Parameters: {'max_depth': None, 'min_samples_split': 2, 'n_estimators': 150}\n",
      "Best Cross-Validated Accuracy: 0.9333333333333333\n"
     ]
    }
   ],
   "source": [
    "from sklearn.model_selection import GridSearchCV\n",
    "# Define the parameter grid\n",
    "param_grid = {\n",
    "    'n_estimators': [50, 100, 150],\n",
    "    'max_depth': [None, 10, 20],\n",
    "    'min_samples_split': [2, 5, 10]\n",
    "}\n",
    "# Grid search\n",
    "grid_search = GridSearchCV(\n",
    "    estimator=RandomForestClassifier(),\n",
    "    param_grid=param_grid,\n",
    "    cv=5,\n",
    "    scoring='accuracy'\n",
    ")\n",
    "grid_search.fit(X_train, y_train)\n",
    "# Best parameters and accuracy\n",
    "print(\"Best Parameters:\", grid_search.best_params_)\n",
    "print(\"Best Cross-Validated Accuracy:\", grid_search.best_score_)"
   ]
  },
  {
   "cell_type": "markdown",
   "id": "327718be",
   "metadata": {},
   "source": [
    "### 7.3. Evaluation Metrics\n",
    "- for classifcation (Accuracy, R2,ROC...)\n",
    "- for regression (MSE, MAE,...)\n",
    "\n"
   ]
  },
  {
   "cell_type": "code",
   "execution_count": 14,
   "id": "fdf5d3b3",
   "metadata": {},
   "outputs": [],
   "source": [
    "from sklearn.metrics import ConfusionMatrixDisplay"
   ]
  },
  {
   "cell_type": "code",
   "execution_count": 15,
   "id": "1486a6cb",
   "metadata": {},
   "outputs": [
    {
     "data": {
      "image/png": "[encoded data removed]",
      "text/plain": [
       "<Figure size 640x480 with 2 Axes>"
      ]
     },
     "metadata": {},
     "output_type": "display_data"
    }
   ],
   "source": [
    "_ = ConfusionMatrixDisplay.from_estimator(models[\"Logistic Regression\"], X_test, y_test)"
   ]
  },
  {
   "cell_type": "markdown",
   "id": "008d20cf",
   "metadata": {},
   "source": [
    "**Mandatory exercises** (70% points): \n",
    "1. Run the code\n",
    "2. Apply any other model for given dataset\n",
    "3. Add any of parameter to gridsearch\n",
    "\n",
    "**Exercies** (2 required for 100% points)\n",
    "\n",
    "1. Use other dataset (any from past classes), apply at least 3 models for it\n",
    "2. Perform hyperparameter tuning for one of models (such, that they have hyperparameter)\n",
    "3. Calculate at least 2 metrics for used models"
   ]
  },
  {
   "cell_type": "code",
   "execution_count": 16,
   "id": "f5b86cde",
   "metadata": {},
   "outputs": [
    {
     "name": "stdout",
     "output_type": "stream",
     "text": [
      "Logistic Regression: Accuracy = 1.00\n",
      "Support Vector Machine: Accuracy = 1.00\n",
      "Random Forest: Accuracy = 0.98\n",
      "Gradient Boosting: Accuracy = 0.98\n",
      "Gradient Boosting: Average Accuracy = 0.96 Folds:[0.96666667 0.96666667 0.9        0.96666667 1.        ]\n"
     ]
    }
   ],
   "source": [
    "#Apply any other model for given dataset\n",
    "from sklearn.ensemble import GradientBoostingClassifier\n",
    "\n",
    "\n",
    "models[\"Gradient Boosting\"] = GradientBoostingClassifier()\n",
    "\n",
    "\n",
    "for name, model in models.items():\n",
    "    model.fit(X_train, y_train)\n",
    "    y_pred = model.predict(X_test)\n",
    "    accuracy = accuracy_score(y_test, y_pred)\n",
    "    print(f\"{name}: Accuracy = {accuracy:.2f}\")\n",
    "\n",
    "\n",
    "scores = cross_val_score(models[\"Gradient Boosting\"], X, y, cv=5)\n",
    "print(f\"Gradient Boosting: Average Accuracy = {np.mean(scores):.2f} Folds:{scores}\")\n"
   ]
  },
  {
   "cell_type": "code",
   "execution_count": 17,
   "id": "fd09d51c",
   "metadata": {},
   "outputs": [
    {
     "name": "stdout",
     "output_type": "stream",
     "text": [
      "Best Parameters for Random Forest: {'criterion': 'gini', 'max_depth': None, 'min_samples_split': 5, 'n_estimators': 50}\n",
      "Best Cross-Validated Accuracy for RF: 0.9333333333333333\n",
      "Best Parameters for Gradient Boosting: {'learning_rate': 0.01, 'max_depth': 7, 'n_estimators': 50}\n",
      "Best Cross-Validated Accuracy for GB: 0.9222222222222223\n"
     ]
    }
   ],
   "source": [
    "#Add any of parameter to gridsearch\n",
    "\n",
    "\n",
    "param_grid_rf = {\n",
    "    'n_estimators': [50, 100, 150],\n",
    "    'max_depth': [None, 10, 20],\n",
    "    'min_samples_split': [2, 5, 10],\n",
    "    'criterion': ['gini', 'entropy']  \n",
    "}\n",
    "\n",
    "\n",
    "param_grid_gb = {\n",
    "    'n_estimators': [50, 100, 150],\n",
    "    'learning_rate': [0.01, 0.1, 0.2],  \n",
    "    'max_depth': [3, 5, 7]\n",
    "}\n",
    "\n",
    "\n",
    "grid_search_rf = GridSearchCV(\n",
    "    estimator=RandomForestClassifier(),\n",
    "    param_grid=param_grid_rf,\n",
    "    cv=5,\n",
    "    scoring='accuracy'\n",
    ")\n",
    "grid_search_rf.fit(X_train, y_train)\n",
    "\n",
    "\n",
    "grid_search_gb = GridSearchCV(\n",
    "    estimator=GradientBoostingClassifier(),\n",
    "    param_grid=param_grid_gb,\n",
    "    cv=5,\n",
    "    scoring='accuracy'\n",
    ")\n",
    "grid_search_gb.fit(X_train, y_train)\n",
    "\n",
    "\n",
    "print(\"Best Parameters for Random Forest:\", grid_search_rf.best_params_)\n",
    "print(\"Best Cross-Validated Accuracy for RF:\", grid_search_rf.best_score_)\n",
    "\n",
    "print(\"Best Parameters for Gradient Boosting:\", grid_search_gb.best_params_)\n",
    "print(\"Best Cross-Validated Accuracy for GB:\", grid_search_gb.best_score_)\n"
   ]
  },
  {
   "cell_type": "code",
   "execution_count": 18,
   "id": "d6626a4b",
   "metadata": {},
   "outputs": [
    {
     "name": "stdout",
     "output_type": "stream",
     "text": [
      "Logistic Regression: Accuracy = 0.98\n",
      "Support Vector Machine: Accuracy = 0.98\n",
      "Random Forest: Accuracy = 0.98\n",
      "Logistic Regression: Average Accuracy = 0.96 Folds:[0.96666667 1.         0.93333333 0.9        1.        ]\n",
      "Support Vector Machine: Average Accuracy = 0.97 Folds:[0.96666667 0.96666667 0.96666667 0.93333333 1.        ]\n",
      "Random Forest: Average Accuracy = 0.96 Folds:[0.96666667 0.96666667 0.93333333 0.93333333 1.        ]\n"
     ]
    }
   ],
   "source": [
    "#Exercise 1 -Use other dataset (any from past classes), apply at least 3 models for it\n",
    "\n",
    "import numpy as np\n",
    "import pandas as pd\n",
    "from sklearn.model_selection import train_test_split, cross_val_score\n",
    "from sklearn.metrics import accuracy_score\n",
    "from sklearn.ensemble import RandomForestClassifier\n",
    "from sklearn.svm import SVC\n",
    "from sklearn.linear_model import LogisticRegression\n",
    "from sklearn.datasets import load_iris\n",
    "from sklearn.preprocessing import StandardScaler\n",
    "\n",
    "\n",
    "data = load_iris()\n",
    "X = data.data  \n",
    "y = data.target  \n",
    "\n",
    "\n",
    "scaler = StandardScaler()\n",
    "X = scaler.fit_transform(X)\n",
    "\n",
    "\n",
    "X_train, X_test, y_train, y_test = train_test_split(X, y, test_size=0.4, random_state=42)\n",
    "\n",
    "\n",
    "models = {\n",
    "    \"Logistic Regression\": LogisticRegression(max_iter=500),\n",
    "    \"Support Vector Machine\": SVC(),\n",
    "    \"Random Forest\": RandomForestClassifier()\n",
    "}\n",
    "\n",
    "\n",
    "for name, model in models.items():\n",
    "    model.fit(X_train, y_train)\n",
    "    y_pred = model.predict(X_test)\n",
    "    accuracy = accuracy_score(y_test, y_pred)\n",
    "    print(f\"{name}: Accuracy = {accuracy:.2f}\")\n",
    "\n",
    "\n",
    "for name, model in models.items():\n",
    "    scores = cross_val_score(model, X, y, cv=5)\n",
    "    print(f\"{name}: Average Accuracy = {np.mean(scores):.2f} Folds:{scores}\")\n"
   ]
  },
  {
   "cell_type": "code",
   "execution_count": 19,
   "id": "ccc53d50",
   "metadata": {},
   "outputs": [
    {
     "name": "stdout",
     "output_type": "stream",
     "text": [
      "Best Parameters: {'criterion': 'gini', 'max_depth': None, 'min_samples_split': 5, 'n_estimators': 50}\n",
      "Best Cross-Validated Accuracy: 0.9333333333333333\n"
     ]
    }
   ],
   "source": [
    "#Exercise 2 -Perform hyperparameter tuning for one of models (such, that they have hyperparameter)\n",
    "\n",
    "from sklearn.model_selection import GridSearchCV\n",
    "\n",
    "\n",
    "param_grid = {\n",
    "    'n_estimators': [50, 100, 150],\n",
    "    'max_depth': [None, 10, 20],\n",
    "    'min_samples_split': [2, 5, 10],\n",
    "    'criterion': ['gini', 'entropy']  \n",
    "}\n",
    "\n",
    "\n",
    "grid_search = GridSearchCV(\n",
    "    estimator=RandomForestClassifier(),\n",
    "    param_grid=param_grid,\n",
    "    cv=5,\n",
    "    scoring='accuracy'\n",
    ")\n",
    "\n",
    "grid_search.fit(X_train, y_train)\n",
    "\n",
    "\n",
    "print(\"Best Parameters:\", grid_search.best_params_)\n",
    "print(\"Best Cross-Validated Accuracy:\", grid_search.best_score_)\n"
   ]
  },
  {
   "cell_type": "code",
   "execution_count": 22,
   "id": "0c9a3666",
   "metadata": {},
   "outputs": [
    {
     "data": {
      "image/png": "[encoded data removed]",
      "text/plain": [
       "<Figure size 640x480 with 2 Axes>"
      ]
     },
     "metadata": {},
     "output_type": "display_data"
    },
    {
     "name": "stdout",
     "output_type": "stream",
     "text": [
      "\n",
      "Logistic Regression:\n",
      "              precision    recall  f1-score   support\n",
      "\n",
      "           0       1.00      1.00      1.00        23\n",
      "           1       0.95      1.00      0.97        19\n",
      "           2       1.00      0.94      0.97        18\n",
      "\n",
      "    accuracy                           0.98        60\n",
      "   macro avg       0.98      0.98      0.98        60\n",
      "weighted avg       0.98      0.98      0.98        60\n",
      "\n",
      "\n",
      "Support Vector Machine:\n",
      "              precision    recall  f1-score   support\n",
      "\n",
      "           0       1.00      1.00      1.00        23\n",
      "           1       0.95      1.00      0.97        19\n",
      "           2       1.00      0.94      0.97        18\n",
      "\n",
      "    accuracy                           0.98        60\n",
      "   macro avg       0.98      0.98      0.98        60\n",
      "weighted avg       0.98      0.98      0.98        60\n",
      "\n",
      "\n",
      "Random Forest:\n",
      "              precision    recall  f1-score   support\n",
      "\n",
      "           0       1.00      1.00      1.00        23\n",
      "           1       0.95      1.00      0.97        19\n",
      "           2       1.00      0.94      0.97        18\n",
      "\n",
      "    accuracy                           0.98        60\n",
      "   macro avg       0.98      0.98      0.98        60\n",
      "weighted avg       0.98      0.98      0.98        60\n",
      "\n",
      "\n",
      "Logistic Regression - ROC-AUC Score: 1.0\n"
     ]
    }
   ],
   "source": [
    "#Exercise 3 - Calculate at least 2 metrics for used models\n",
    "\n",
    "from sklearn.metrics import confusion_matrix, classification_report, roc_auc_score\n",
    "import matplotlib.pyplot as plt\n",
    "\n",
    "# Confusion matrix dla regresji logistycznej\n",
    "from sklearn.metrics import ConfusionMatrixDisplay\n",
    "ConfusionMatrixDisplay.from_estimator(models[\"Logistic Regression\"], X_test, y_test)\n",
    "plt.show()\n",
    "\n",
    "# Raport klasyfikacji dla wszystkich modeli\n",
    "for name, model in models.items():\n",
    "    y_pred = model.predict(X_test)\n",
    "    print(f\"\\n{name}:\")\n",
    "    print(classification_report(y_test, y_pred))\n",
    "\n",
    "# Obliczenie ROC-AUC dla regresji logistycznej (potrzebne `predict_proba`)\n",
    "y_prob = models[\"Logistic Regression\"].predict_proba(X_test)\n",
    "roc_auc = roc_auc_score(y_test, y_prob, multi_class=\"ovr\")\n",
    "print(\"\\nLogistic Regression - ROC-AUC Score:\", roc_auc)\n"
   ]
  },
  {
   "cell_type": "code",
   "execution_count": null,
   "id": "f0db7ff0",
   "metadata": {},
   "outputs": [],
   "source": []
  }
 ],
 "metadata": {
  "kernelspec": {
   "display_name": "Python 3 (ipykernel)",
   "language": "python",
   "name": "python3"
  },
  "language_info": {
   "codemirror_mode": {
    "name": "ipython",
    "version": 3
   },
   "file_extension": ".py",
   "mimetype": "text/x-python",
   "name": "python",
   "nbconvert_exporter": "python",
   "pygments_lexer": "ipython3",
   "version": "3.9.21"
  }
 },
 "nbformat": 4,
 "nbformat_minor": 5
}
