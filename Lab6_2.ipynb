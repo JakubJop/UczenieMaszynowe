{
 "cells": [
  {
   "cell_type": "markdown",
   "id": "6db2da1c-5ca4-4d90-a6ba-45198bee0ada",
   "metadata": {
    "tags": []
   },
   "source": [
    "![![University of Information Technology and Management in Rzeszow, Poland](https://gitlab.wsiz.pl/lgajecki/SA/-/raw/master/wsiz_eng.png)](wsiz_eng.png)\n",
    "\n",
    "# Laboratory 6 (part 2) - Time series, LSTM cells\n",
    "\n",
    "Sprawozdanie $\\ \\ \\ \\ \\ \\ \\ \\ $   Imie: .......Jakub..............  Nazwisko: ........Jop......  | Nr albumu : ........w67238............ | Ocena\n",
    ":--|:--|:--\n",
    "Efekt PU01 'Ocena rozwiązań problemów przygotowywanych w ramach poszczególnych laboratoriów' | - ocena za wykonanie ćwiczeń i ich interpretację. | _________/4 pkt(max)\n",
    "\n",
    "Based on https://towardsdatascience.com/pytorch-lstms-for-time-series-data-cd16190929d7\n",
    "\n",
    "Original sources in that paper come from https://gist.github.com/charlieoneill11 . However I've introduced few corrections (LSTM class and calling training loop)\n",
    "\n",
    "LSTM cells explaned: https://towardsdatascience.com/how-the-lstm-improves-the-rnn-1ef156b75121\n",
    "\n",
    "Documentation in Pytorch https://pytorch.org/docs/stable/nn.html#recurrent-layers"
   ]
  },
  {
   "cell_type": "markdown",
   "id": "e8fcc124",
   "metadata": {},
   "source": [
    "To learn the sequence we can use:\n",
    "- any neural network: \n",
    "    - input: data at time t: x(t), or in general n last samples x(t-n+1),..,x(t)\n",
    "    - output: data at next time t+1, x(t+1) , or in some future steps x(t+1)...x(t+m)\n",
    "- recurrent neural network (RNN). Thhis network remeber previous state. The key point is that outputs are concatenated with inputs (so direct inputs are x(t),y(t-1) ). The outputs might be after some k layers (not only last layer), then first k layers will be recurrent layers, and further layers are foorward (classical) layers.\n",
    "- LSTM cell , more complex case of RNN. Has however good properties (RNN may be unstable, ie positive feedforward make increasing signal).\n",
    "  \n",
    "Materials about LSTM:\n",
    "[1] https://colah.github.io/posts/2015-08-Understanding-LSTMs/\n",
    "\n",
    "[2] https://datascience.eu/pl/uczenie-maszynowe/zrozumienie-sieci-lstm/\n",
    "\n",
    "[3] https://towardsdatascience.com/lstm-networks-a-detailed-explanation-8fae6aefc7f9\n",
    "\n",
    "[4] https://www.geeksforgeeks.org/long-short-term-memory-networks-explanation/\n",
    "\n",
    "[5] Pytorch LSTM: https://pytorch.org/docs/stable/generated/torch.nn.LSTMCell.html#torch.nn.LSTMCell\n",
    "\n",
    "\n",
    "h - is \"real\" output -called \"hidden state\" <br>\n",
    "c - is \"cell state\" - internal state of LSTM cell\n",
    "\n",
    "In Pytorch - you can provide initial c and h matrix, if not provided they will be zeros.\n",
    "However if you calculate next step of the sequence - you need h and c matrix from previous step (for each LSTM layer separate one).\n",
    "\n",
    "hidden_size - number of outputs (we can say number of \"neurons\", but all calculations here are matrix operations)<br>\n",
    "input_size - number of inputs (size of input vector)\n",
    "\n",
    "Example from [5]:\n",
    "\n",
    "    rnn = nn.LSTMCell(10, 20) # (input_size, hidden_size)\n",
    "    input = torch.randn(2, 3, 10) # (time_steps, batch, input_size)\n",
    "    hx = torch.randn(3, 20) # (batch, hidden_size)\n",
    "    cx = torch.randn(3, 20)\n",
    "    output = []\n",
    "    for i in range(input.size()[0]):\n",
    "        hx, cx = rnn(input[i], (hx, cx))\n",
    "        output.append(hx)\n",
    "    output = torch.stack(output, dim=0)\n"
   ]
  },
  {
   "cell_type": "code",
   "execution_count": 2,
   "id": "9fa427d1-8d08-4e31-90e5-30e306dce246",
   "metadata": {},
   "outputs": [],
   "source": [
    "import numpy as np\n",
    "import torch\n",
    "import torch.nn as nn\n",
    "from torch import optim"
   ]
  },
  {
   "cell_type": "markdown",
   "id": "a896492f-5f90-4ae0-b3b7-8cc81add52bf",
   "metadata": {},
   "source": [
    "## 1. Simple dataset. \n",
    "Assume time series data. (Klay Tomposon - number of games after return from injury)."
   ]
  },
  {
   "cell_type": "code",
   "execution_count": 3,
   "id": "1f1e7a9f-d8b1-4ef1-a9a4-add1ef8be2d3",
   "metadata": {},
   "outputs": [
    {
     "data": {
      "text/plain": [
       "(tensor([ 0.,  1.,  2.,  3.,  4.,  5.,  6.,  7.,  8.,  9., 10.]),\n",
       " tensor([12.9241, 16.2541, 16.5142, 17.8334, 19.3395, 22.4392, 23.7458, 23.9591,\n",
       "         25.1361, 25.7350, 30.9292]))"
      ]
     },
     "execution_count": 3,
     "metadata": {},
     "output_type": "execute_result"
    }
   ],
   "source": [
    "X = torch.Tensor([x for x in range(11)])\n",
    "y = torch.Tensor([1.6*x + 4 + np.random.normal(10, 1) for x in X])\n",
    "X, y"
   ]
  },
  {
   "cell_type": "markdown",
   "id": "bc305cb4-051d-4a68-9a50-e27d86ef5acb",
   "metadata": {},
   "source": [
    "Samples"
   ]
  },
  {
   "cell_type": "code",
   "execution_count": 4,
   "id": "14124a4b-3d38-445a-ab6c-a1dff256bffc",
   "metadata": {},
   "outputs": [
    {
     "name": "stdout",
     "output_type": "stream",
     "text": [
      "torch.Size([11]) torch.Size([11]) torch.Size([9, 1]) torch.Size([9, 1]) torch.Size([2, 1]) torch.Size([2, 1])\n"
     ]
    }
   ],
   "source": [
    "X_train = X[:9].unsqueeze(1)\n",
    "y_train = y[:9].unsqueeze(1)\n",
    "X_val = X[9:].unsqueeze(1)\n",
    "y_val = y[9:].unsqueeze(1)\n",
    "print(X.shape,y.shape,X_train.shape,y_train.shape,X_val.shape,y_val.shape)"
   ]
  },
  {
   "cell_type": "markdown",
   "id": "85eeff23-3c83-4fbc-9dd7-768891566750",
   "metadata": {},
   "source": [
    "Neural Network Model"
   ]
  },
  {
   "cell_type": "code",
   "execution_count": 5,
   "id": "03647a6a-4301-4ba2-b71d-4ff7a9591a4e",
   "metadata": {},
   "outputs": [
    {
     "data": {
      "text/plain": [
       "Sequential(\n",
       "  (0): Linear(in_features=1, out_features=13, bias=True)\n",
       "  (1): Tanh()\n",
       "  (2): Linear(in_features=13, out_features=1, bias=True)\n",
       ")"
      ]
     },
     "execution_count": 5,
     "metadata": {},
     "output_type": "execute_result"
    }
   ],
   "source": [
    "seq_model = nn.Sequential(\n",
    "    nn.Linear(1, 13),\n",
    "    nn.Tanh(),\n",
    "    nn.Linear(13, 1))\n",
    "seq_model\n"
   ]
  },
  {
   "cell_type": "markdown",
   "id": "2d033024-7a30-4a17-a6fe-38dd14b70c25",
   "metadata": {},
   "source": [
    "How to check network size? Tutorial : https://medium.com/the-owl/how-to-get-model-summary-in-pytorch-57db7824d1e3\n",
    "\n",
    "You need to specify an input size, since in Pytorch (unlike Keras) the calculation graph is created dynamically. Sometimes, when `forward` function preform processing in loop (exercise 2) - the results might be interesting (multiplication of layers number by loop repetition)\n",
    "\n",
    "Note, that those tools assumes, that your data contains batches,  so your input is size, for example *(N,L,H_in)*, where:\n",
    "- *N* - Batch size\n",
    "- *L* - sequence length (or number of vectors)\n",
    "- *H_in* - the input vector size\n",
    "\n",
    "When your real inputs is size *(L,H_in)* you need add batch dimension in such case.\n",
    "\n",
    "Documentation, respectively: \n",
    "- https://github.com/sksq96/pytorch-summary\n",
    "- https://pypi.org/project/torchinfo/"
   ]
  },
  {
   "cell_type": "code",
   "execution_count": 6,
   "id": "89eba823-ca6b-4cfe-b32f-8314cf48cd4f",
   "metadata": {},
   "outputs": [
    {
     "name": "stdout",
     "output_type": "stream",
     "text": [
      "----------------------------------------------------------------\n",
      "        Layer (type)               Output Shape         Param #\n",
      "================================================================\n",
      "            Linear-1                 [1, 9, 13]              26\n",
      "              Tanh-2                 [1, 9, 13]               0\n",
      "            Linear-3                  [1, 9, 1]              14\n",
      "================================================================\n",
      "Total params: 40\n",
      "Trainable params: 40\n",
      "Non-trainable params: 0\n",
      "----------------------------------------------------------------\n",
      "Input size (MB): 0.00\n",
      "Forward/backward pass size (MB): 0.00\n",
      "Params size (MB): 0.00\n",
      "Estimated Total Size (MB): 0.00\n",
      "----------------------------------------------------------------\n"
     ]
    }
   ],
   "source": [
    "from torchsummary import summary\n",
    "summary(seq_model,input_size=(9,1),batch_size=1)#batch_size=-1"
   ]
  },
  {
   "cell_type": "markdown",
   "id": "b6ece396-adb4-4944-b5fd-92d7c76dd7ad",
   "metadata": {},
   "source": [
    "Training"
   ]
  },
  {
   "cell_type": "code",
   "execution_count": 7,
   "id": "74a955d0-dfbf-4729-ba3c-20a3c71fa687",
   "metadata": {},
   "outputs": [
    {
     "data": {
      "text/plain": [
       "=====================================================================================================================================================================\n",
       "Layer (type:depth-idx)                   Input Shape               Output Shape              Param #                   Kernel Shape              Mult-Adds\n",
       "=====================================================================================================================================================================\n",
       "Sequential                               [1, 9, 1]                 [1, 9, 1]                 --                        --                        --\n",
       "├─Linear: 1-1                            [1, 9, 1]                 [1, 9, 13]                26                        --                        26\n",
       "├─Tanh: 1-2                              [1, 9, 13]                [1, 9, 13]                --                        --                        --\n",
       "├─Linear: 1-3                            [1, 9, 13]                [1, 9, 1]                 14                        --                        14\n",
       "=====================================================================================================================================================================\n",
       "Total params: 40\n",
       "Trainable params: 40\n",
       "Non-trainable params: 0\n",
       "Total mult-adds (M): 0.00\n",
       "=====================================================================================================================================================================\n",
       "Input size (MB): 0.00\n",
       "Forward/backward pass size (MB): 0.00\n",
       "Params size (MB): 0.00\n",
       "Estimated Total Size (MB): 0.00\n",
       "====================================================================================================================================================================="
      ]
     },
     "execution_count": 7,
     "metadata": {},
     "output_type": "execute_result"
    }
   ],
   "source": [
    "import torchinfo\n",
    "torchinfo.summary(seq_model, (9,1), batch_dim = 0, \n",
    "                  col_names = (\"input_size\", \"output_size\", \"num_params\", \n",
    "                               \"kernel_size\", \"mult_adds\"), verbose = 0)"
   ]
  },
  {
   "cell_type": "code",
   "execution_count": 8,
   "id": "3c21a578-a6fe-4903-833a-c3b3707addaf",
   "metadata": {},
   "outputs": [],
   "source": [
    "def training_loop1(n_epochs, optimiser, model, loss_fn, X_train,  X_val, y_train, y_val):\n",
    "    for epoch in range(1, n_epochs + 1):\n",
    "        output_train = model(X_train) # forwards pass\n",
    "        loss_train = loss_fn(output_train, y_train) # calculate loss\n",
    "        output_val = model(X_val) \n",
    "        loss_val = loss_fn(output_val, y_val)\n",
    "        \n",
    "        optimiser.zero_grad() # set gradients to zero\n",
    "        loss_train.backward() # backwards pass\n",
    "        optimiser.step() # update model parameters\n",
    "        if epoch == 1 or epoch % 10000 == 0:\n",
    "            print(f\"Epoch {epoch}, Training loss {loss_train.item():.4f},\"\n",
    "                  f\" Validation loss {loss_val.item():.4f}\")"
   ]
  },
  {
   "cell_type": "code",
   "execution_count": 9,
   "id": "9518f807-93ae-4609-b322-845b2eb446fe",
   "metadata": {},
   "outputs": [
    {
     "name": "stdout",
     "output_type": "stream",
     "text": [
      "Epoch 1, Training loss 423.7332, Validation loss 830.5098\n",
      "Epoch 10000, Training loss 0.2061, Validation loss 11.7904\n",
      "Epoch 20000, Training loss 0.0929, Validation loss 13.1761\n",
      "Epoch 30000, Training loss 0.0645, Validation loss 14.2007\n",
      "Epoch 40000, Training loss 0.0587, Validation loss 14.4762\n",
      "Epoch 50000, Training loss 0.0563, Validation loss 14.3667\n"
     ]
    }
   ],
   "source": [
    "optimiser = optim.SGD(seq_model.parameters(), lr=1e-3)\n",
    "training_loop1(\n",
    "    n_epochs = 50000, \n",
    "    optimiser = optimiser,\n",
    "    model = seq_model,\n",
    "    loss_fn = nn.MSELoss(),\n",
    "    X_train = X_train,\n",
    "    X_val = X_val, \n",
    "    y_train = y_train,\n",
    "    y_val = y_val)"
   ]
  },
  {
   "cell_type": "markdown",
   "id": "9bdbe0e9-d103-4177-9a9e-1307fcc94472",
   "metadata": {},
   "source": [
    "Test results"
   ]
  },
  {
   "cell_type": "code",
   "execution_count": 10,
   "id": "f83998f0-5732-4f1c-bd3e-2092aa9fe3f1",
   "metadata": {},
   "outputs": [
    {
     "data": {
      "text/plain": [
       "[<matplotlib.lines.Line2D at 0x7f24e47138b0>]"
      ]
     },
     "execution_count": 10,
     "metadata": {},
     "output_type": "execute_result"
    },
    {
     "data": {
      "image/png": "[encoded data removed]",
      "text/plain": [
       "<Figure size 640x480 with 1 Axes>"
      ]
     },
     "metadata": {},
     "output_type": "display_data"
    }
   ],
   "source": [
    "import matplotlib.pyplot as plt\n",
    "plt.plot(X,y)\n",
    "y_res=seq_model(X.unsqueeze(1))\n",
    "plt.plot(X,y_res.detach(),'x')"
   ]
  },
  {
   "cell_type": "markdown",
   "id": "5e444b40-5bba-42ce-9772-6bd2f95ddb4e",
   "metadata": {},
   "source": [
    "**Ex 1.1** At which iteration you should stop above training process? Please perform training to estimated point of overfitting."
   ]
  },
  {
   "cell_type": "markdown",
   "id": "dfbf6489",
   "metadata": {},
   "source": []
  },
  {
   "cell_type": "markdown",
   "id": "fe515d04-17cd-4a45-91d7-055774fee67f",
   "metadata": {},
   "source": [
    "## 2) Dataset - set of sine waves\n",
    "\n",
    "Generation of L sinusoids, for each sinusoid N samples "
   ]
  },
  {
   "cell_type": "code",
   "execution_count": 11,
   "id": "175f00ae-a1fc-415d-94fc-47fbc7918a28",
   "metadata": {},
   "outputs": [],
   "source": [
    "N = 10 #100 number of samples, 100 need long time...\n",
    "L = 1000 # length of each sample (number of values for each sine wave)\n",
    "T = 20 # width of the wave\n",
    "x = np.empty((N,L), np.float32) # instantiate empty array\n",
    "x[:] = np.arange((L)) + np.random.randint(-4*T, 4*T, N).reshape(N,1)\n",
    "y = np.sin(x/1.0/T).astype(np.float32)"
   ]
  },
  {
   "cell_type": "markdown",
   "id": "db77c5ad",
   "metadata": {},
   "source": [
    "**Ex 2.1** Draw one sinusoid"
   ]
  },
  {
   "cell_type": "code",
   "execution_count": 12,
   "id": "5681c171",
   "metadata": {},
   "outputs": [
    {
     "data": {
      "text/plain": [
       "(10, 1000)"
      ]
     },
     "execution_count": 12,
     "metadata": {},
     "output_type": "execute_result"
    }
   ],
   "source": [
    "y.shape #given ie. x[10] y[10]"
   ]
  },
  {
   "cell_type": "markdown",
   "id": "0995a65c",
   "metadata": {},
   "source": [
    "**Ex 2.2** (for base grade - required - only run code) Network constructed by two LSTM layers and one linear"
   ]
  },
  {
   "cell_type": "code",
   "execution_count": 13,
   "id": "c4fe3808-0333-434a-94ec-39828a5aded7",
   "metadata": {},
   "outputs": [],
   "source": [
    "class LSTM(nn.Module):\n",
    "    def __init__(self, hidden_layers=64):\n",
    "        super().__init__()\n",
    "        self.hidden_layers = hidden_layers\n",
    "        # lstm1, lstm2, linear are all layers in the network\n",
    "        self.lstm = nn.LSTM(1, self.hidden_layers,2) #2 LSTM layers, \n",
    "        #first has 1 input, num_layers output; second num_layers inputs and num_layers outputs\n",
    "        self.linear = nn.Linear(self.hidden_layers, 1)\n",
    "        \n",
    "    # We have to provide previous value of hx,cx - otherwise they will be zeros and no recurrence effect\n",
    "    # At first iteration we have to provide \n",
    "    def forward(self, y, future_preds=0):\n",
    "        \n",
    "        input_t=y.t().unsqueeze(2) #(999,3,1)\n",
    "        h_t2, (h_t,c_t)= self.lstm(input_t) \n",
    "        print(h_t2.shape,h_t.shape)\n",
    "        output = self.linear(h_t2) # output from the last FC layer\n",
    "        output= output.squeeze(2).t() #(3,999)\n",
    "        output1= output[:,-1].unsqueeze(0).unsqueeze(2)\n",
    "        \n",
    "        for i in range(future_preds):\n",
    "            # this only generates future predictions if we pass in future_preds>0\n",
    "            # mirrors the code above, using last output/prediction as input\n",
    "            #print(output1.shape)\n",
    "            h_t2, (h_t, c_t) = self.lstm(output1, (h_t, c_t))\n",
    "            output1 = self.linear(h_t2)\n",
    "            #print(f\"output1:{output1.shape} output:{output.shape}\")\n",
    "            output= torch.cat((output,output1.squeeze(0)),1)\n",
    "        \n",
    "        return output"
   ]
  },
  {
   "cell_type": "code",
   "execution_count": 14,
   "id": "1344a142-d2e4-41e1-9440-6a0f5b99714c",
   "metadata": {},
   "outputs": [
    {
     "name": "stdout",
     "output_type": "stream",
     "text": [
      "torch.Size([1, 999, 64]) torch.Size([2, 999, 64])\n"
     ]
    },
    {
     "data": {
      "text/plain": [
       "=====================================================================================================================================================================\n",
       "Layer (type:depth-idx)                   Input Shape               Output Shape              Param #                   Kernel Shape              Mult-Adds\n",
       "=====================================================================================================================================================================\n",
       "LSTM                                     [999, 1]                  [999, 1]                  --                        --                        --\n",
       "├─LSTM: 1-1                              [1, 1, 1]                 [1, 1, 64]                50,432                    --                        50,432\n",
       "├─Linear: 1-2                            [1, 1, 64]                [1, 999, 1]               65                        --                        65\n",
       "=====================================================================================================================================================================\n",
       "Total params: 50,497\n",
       "Trainable params: 50,497\n",
       "Non-trainable params: 0\n",
       "Total mult-adds (M): 0.05\n",
       "=====================================================================================================================================================================\n",
       "Input size (MB): 0.00\n",
       "Forward/backward pass size (MB): 0.01\n",
       "Params size (MB): 0.20\n",
       "Estimated Total Size (MB): 0.21\n",
       "====================================================================================================================================================================="
      ]
     },
     "execution_count": 14,
     "metadata": {},
     "output_type": "execute_result"
    }
   ],
   "source": [
    "import torchinfo\n",
    "torchinfo.summary(LSTM(), (999,), batch_dim = 1, \n",
    "                  col_names = (\"input_size\", \"output_size\", \"num_params\", \n",
    "                               \"kernel_size\", \"mult_adds\"), verbose = 0)"
   ]
  },
  {
   "cell_type": "code",
   "execution_count": 15,
   "id": "d93b42e3",
   "metadata": {},
   "outputs": [],
   "source": [
    "# y = (100, 1000)\n",
    "train_input = torch.from_numpy(y[3:, :-1]) # (97, 999)\n",
    "train_target = torch.from_numpy(y[3:, 1:]) # (97, 999)"
   ]
  },
  {
   "cell_type": "code",
   "execution_count": 16,
   "id": "8ce1c489",
   "metadata": {},
   "outputs": [],
   "source": [
    "test_input = torch.from_numpy(y[:3, :-1]) # (3, 999)\n",
    "test_target = torch.from_numpy(y[:3, 1:]) # (3, 999)"
   ]
  },
  {
   "cell_type": "markdown",
   "id": "ac28a5ed",
   "metadata": {},
   "source": [
    "Small test on `LSTM2` network"
   ]
  },
  {
   "cell_type": "code",
   "execution_count": null,
   "id": "c74eaf57-e256-44cf-8688-5b8fafc6211b",
   "metadata": {},
   "outputs": [],
   "source": [
    "b=train_input.split(1, dim=1)\n",
    "len(b)\n",
    "model=LSTM()\n",
    "y0=model(test_input,future_preds=0)\n",
    "y0.shape"
   ]
  },
  {
   "cell_type": "code",
   "execution_count": null,
   "id": "cc561448",
   "metadata": {},
   "outputs": [],
   "source": [
    " \n",
    "criterion = nn.MSELoss()\n",
    "optimiser = optim.LBFGS(model.parameters(), lr=0.08)"
   ]
  },
  {
   "cell_type": "markdown",
   "id": "c181c648",
   "metadata": {},
   "source": [
    "Training code"
   ]
  },
  {
   "cell_type": "code",
   "execution_count": null,
   "id": "9bfb4cfe",
   "metadata": {},
   "outputs": [],
   "source": [
    "import matplotlib.pyplot as plt\n",
    "\n",
    "def training_loop(n_epochs, model, optimiser, loss_fn, \n",
    "                  train_input, train_target, test_input, test_target):\n",
    "    for i in range(n_epochs):\n",
    "        def closure():\n",
    "            optimiser.zero_grad()\n",
    "            out = model(train_input)\n",
    "            loss = loss_fn(out, train_target)\n",
    "            loss.backward()\n",
    "            return loss\n",
    "        optimiser.step(closure)\n",
    "        with torch.no_grad():\n",
    "            future = 1000\n",
    "            pred = model(test_input, future_preds=future)\n",
    "            # use all pred samples, but only go to 999\n",
    "            loss = loss_fn(pred[:, :-future], test_target)\n",
    "            y = pred.detach().numpy()\n",
    "        # draw figures\n",
    "        plt.figure(figsize=(12,6))\n",
    "        plt.title(f\"Step {i+1}\")\n",
    "        plt.xlabel(\"x\")\n",
    "        plt.ylabel(\"y\")\n",
    "        plt.xticks(fontsize=20)\n",
    "        plt.yticks(fontsize=20)\n",
    "        n = train_input.shape[1] # 999\n",
    "        def draw(yi, colour):\n",
    "            plt.plot(np.arange(n), yi[:n], colour, linewidth=2.0)\n",
    "            plt.plot(np.arange(n, n+future), yi[n:], colour+\":\", linewidth=2.0)\n",
    "        draw(y[0], 'r')\n",
    "        draw(y[1], 'b')\n",
    "        draw(y[2], 'g')\n",
    "        plt.savefig(\"predict%d.png\"%i, dpi=200)\n",
    "        plt.close()\n",
    "        # print the loss\n",
    "        out = model(train_input)\n",
    "        loss_print = loss_fn(out, train_target)\n",
    "        print(\"Step: {}, Loss: {}\".format(i, loss_print))"
   ]
  },
  {
   "cell_type": "code",
   "execution_count": null,
   "id": "d3f0af02",
   "metadata": {
    "scrolled": true
   },
   "outputs": [],
   "source": [
    "training_loop(n_epochs = 2,\n",
    "              model = model,\n",
    "              optimiser = optimiser,\n",
    "              loss_fn = criterion,\n",
    "              train_input = train_input,\n",
    "              train_target = train_target,\n",
    "              test_input = test_input,\n",
    "              test_target = test_target)\n"
   ]
  },
  {
   "cell_type": "markdown",
   "id": "44c1c32d",
   "metadata": {},
   "source": [
    "**Ex 2.3** What are the result?"
   ]
  },
  {
   "cell_type": "markdown",
   "id": "d3fa0797",
   "metadata": {},
   "source": []
  },
  {
   "cell_type": "markdown",
   "id": "e02b0b6d",
   "metadata": {},
   "source": [
    "**Ex 2.4** Write the code for drawing figure of some model predictions. Use (for simplicity) selected training data"
   ]
  },
  {
   "cell_type": "markdown",
   "id": "e9fbc01d",
   "metadata": {},
   "source": [
    "## 3) Another dataset (sine waves), automated model construction\n",
    "\n",
    "**Ex 3.1** (required for base grade -run the code) As above - generation of L sinusoids (change of **dataset 2**), for each sinusoid N sample. The number of sinusoids, number of samples was changed. We will check if network can manage with other shape of data. "
   ]
  },
  {
   "cell_type": "code",
   "execution_count": null,
   "id": "59cbd8ea",
   "metadata": {},
   "outputs": [],
   "source": [
    "N = np.random.randint(5,20) #(50, 200) # number of samples\n",
    "L = np.random.randint(800, 1200) # length of each sample (number of values for each sine wave)\n",
    "T = np.random.randint(10, 30) # width of the wave\n",
    "x = np.empty((N,L), np.float32) # instantiate empty array\n",
    "x[:] = np.arange(L) + np.random.randint(-4*T, 4*T, N).reshape(N,1)\n",
    "y = np.cos(np.sin(x/1.0/T)**2).astype(np.float32)"
   ]
  },
  {
   "cell_type": "markdown",
   "id": "f150bf43",
   "metadata": {},
   "source": [
    "Some samples from each sinusoid _train_prop_ will be used"
   ]
  },
  {
   "cell_type": "code",
   "execution_count": null,
   "id": "87319c63",
   "metadata": {},
   "outputs": [],
   "source": [
    "train_prop = 0.7 # good if N<=20 # 0.95\n",
    "train_samples = round(N * train_prop) \n",
    "test_samples = N - train_samples"
   ]
  },
  {
   "cell_type": "markdown",
   "id": "0f201477",
   "metadata": {},
   "source": [
    "Input and output"
   ]
  },
  {
   "cell_type": "code",
   "execution_count": null,
   "id": "c3ff0ac4",
   "metadata": {},
   "outputs": [],
   "source": [
    "# y = (N, L)\n",
    "train_input = torch.from_numpy(y[test_samples:, :-1]) # (train_samples, L-1)\n",
    "train_target = torch.from_numpy(y[test_samples:, 1:]) # (train_samples, L-1)\n",
    "test_input = torch.from_numpy(y[:test_samples, :-1]) # (train_samples, L-1)\n",
    "test_target = torch.from_numpy(y[:test_samples, 1:]) # (train_samples, L-1)"
   ]
  },
  {
   "cell_type": "code",
   "execution_count": null,
   "id": "74ab7f49",
   "metadata": {},
   "outputs": [],
   "source": [
    "print(test_samples)\n",
    "training_loop(n_epochs = 2,\n",
    "              model = model,\n",
    "              optimiser = optimiser,\n",
    "              loss_fn = criterion,\n",
    "              train_input = train_input,\n",
    "              train_target = train_target,\n",
    "              test_input = test_input,\n",
    "              test_target = test_target)"
   ]
  },
  {
   "cell_type": "markdown",
   "id": "7fcf3c3c",
   "metadata": {},
   "source": [
    "**Ex 3.2** Change of **dataset 1** (Klay Thompson example)"
   ]
  },
  {
   "cell_type": "code",
   "execution_count": null,
   "id": "8e3c208b",
   "metadata": {},
   "outputs": [],
   "source": [
    "N = 100 # number of theoretical series of games\n",
    "L = 11 # number of games in each series\n",
    "x = torch.Tensor(np.empty((N,L), np.float32)) # instantiate empty array\n",
    "x[:] = torch.arange(L)\n",
    "y = 1.6*x + 4\n",
    "\n",
    "# add some noise\n",
    "for i in range(len(y)):\n",
    "    y[i] += np.random.normal(10, 1)\n",
    "    \n",
    "print(x.shape,y.shape)"
   ]
  },
  {
   "cell_type": "code",
   "execution_count": null,
   "id": "f821d90d",
   "metadata": {},
   "outputs": [],
   "source": [
    "X_train = x[:,:9].unsqueeze(2)\n",
    "y_train = y[:,:9].unsqueeze(2)\n",
    "X_val = x[:,9:].unsqueeze(2)\n",
    "y_val = y[:,9:].unsqueeze(2)\n",
    "print(X.shape,y.shape,X_train.shape,y_train.shape,X_val.shape,y_val.shape)"
   ]
  },
  {
   "cell_type": "markdown",
   "id": "688a99a2",
   "metadata": {},
   "source": [
    "Call here `training_loop1(...)` (it will work for shape \\[9,1\\] as well as \\[100,9,1\\]  "
   ]
  },
  {
   "cell_type": "code",
   "execution_count": null,
   "id": "2b33f23c",
   "metadata": {},
   "outputs": [],
   "source": []
  },
  {
   "cell_type": "markdown",
   "id": "7e8cf3d1",
   "metadata": {},
   "source": [
    "Use plotting code , but use `x[l]`,`y[l]` (for given `l`) instead `X,y`"
   ]
  },
  {
   "cell_type": "code",
   "execution_count": null,
   "id": "96b7b2b4",
   "metadata": {},
   "outputs": [],
   "source": []
  },
  {
   "cell_type": "markdown",
   "id": "c4803ce0",
   "metadata": {},
   "source": [
    "**Mandatory exercises** (70% points): Run the code \n",
    "\n",
    "**Exercises for bigger grade**: 2 exercises (1.1, 2.1,2.3,2.4,3.2  required for 100% points for this report.\n",
    "\n",
    "**Write here, which exercises you did:**\n"
   ]
  },
  {
   "cell_type": "markdown",
   "id": "e41fc3ba",
   "metadata": {},
   "source": []
  },
  {
   "cell_type": "code",
   "execution_count": 1,
   "id": "2db6db83",
   "metadata": {},
   "outputs": [
    {
     "data": {
      "image/png": "[encoded data removed]",
      "text/plain": [
       "<Figure size 1000x500 with 1 Axes>"
      ]
     },
     "metadata": {},
     "output_type": "display_data"
    }
   ],
   "source": [
    "# Exercise 2.1 \n",
    "import numpy as np\n",
    "import torch\n",
    "import matplotlib.pyplot as plt\n",
    "import torch.nn as nn\n",
    "import torch.optim as optim\n",
    "\n",
    "\n",
    "N = 10  \n",
    "L = 1000 \n",
    "T = 20 \n",
    "\n",
    "\n",
    "x = np.empty((N, L), np.float32)\n",
    "x[:] = np.arange(L) + np.random.randint(-4*T, 4*T, N).reshape(N, 1)\n",
    "y = np.sin(x / T).astype(np.float32)\n",
    "\n",
    "\n",
    "plt.figure(figsize=(10, 5))\n",
    "plt.plot(x[0], y[0], label=\"Przykładowa sinusoida\")\n",
    "plt.xlabel(\"Indeks próbki\")\n",
    "plt.ylabel(\"Wartość\")\n",
    "plt.title(\"Ex 2.1 - Przykładowa sinusoida\")\n",
    "plt.legend()\n",
    "plt.show()\n",
    "\n"
   ]
  },
  {
   "cell_type": "code",
   "execution_count": null,
   "id": "4362e9ca",
   "metadata": {},
   "outputs": [
    {
     "name": "stdout",
     "output_type": "stream",
     "text": [
      "Liczba próbek w zbiorze testowym: 3\n"
     ]
    }
   ],
   "source": [
    "import numpy as np\n",
    "import torch\n",
    "import torch.nn as nn\n",
    "import torch.optim as optim\n",
    "import matplotlib.pyplot as plt\n",
    "\n",
    "\n",
    "N = np.random.randint(5, 20)  \n",
    "L = np.random.randint(800, 1200)  \n",
    "T = np.random.randint(10, 30)  \n",
    "\n",
    "\n",
    "x = np.empty((N, L), np.float32)\n",
    "x[:] = np.arange(L) + np.random.randint(-4*T, 4*T, N).reshape(N, 1)\n",
    "y = np.cos(np.sin(x / T) ** 2).astype(np.float32)\n",
    "\n",
    "\n",
    "train_prop = 0.7\n",
    "train_samples = round(N * train_prop)\n",
    "test_samples = N - train_samples\n",
    "\n",
    "train_input = torch.from_numpy(y[test_samples:, :-1])\n",
    "train_target = torch.from_numpy(y[test_samples:, 1:])\n",
    "test_input = torch.from_numpy(y[:test_samples, :-1])\n",
    "test_target = torch.from_numpy(y[:test_samples, 1:])\n",
    "\n",
    "print(f\"Liczba próbek w zbiorze testowym: {test_samples}\")\n",
    "\n",
    "\n",
    "class LSTM(nn.Module):\n",
    "    def __init__(self, hidden_layers=64):\n",
    "        super().__init__()\n",
    "        self.hidden_layers = hidden_layers\n",
    "        self.lstm = nn.LSTM(1, self.hidden_layers, 2) \n",
    "        self.linear = nn.Linear(self.hidden_layers, 1)\n",
    "\n",
    "    def forward(self, y, future_preds=0):\n",
    "        input_t = y.t().unsqueeze(2)\n",
    "        h_t2, (h_t, c_t) = self.lstm(input_t)\n",
    "        output = self.linear(h_t2).squeeze(2).t()\n",
    "        output1 = output[:, -1].unsqueeze(0).unsqueeze(2)\n",
    "\n",
    "        for _ in range(future_preds):\n",
    "            h_t2, (h_t, c_t) = self.lstm(output1, (h_t, c_t))\n",
    "            output1 = self.linear(h_t2)\n",
    "            output = torch.cat((output, output1.squeeze(0)), 1)\n",
    "\n",
    "        return output\n",
    "\n",
    "model = LSTM()\n",
    "criterion = nn.MSELoss()\n",
    "optimiser = optim.LBFGS(model.parameters(), lr=0.08)\n",
    "\n",
    "\n",
    "def training_loop(n_epochs, model, optimiser, loss_fn, train_input, train_target, test_input, test_target):\n",
    "    for i in range(n_epochs):\n",
    "        def closure():\n",
    "            optimiser.zero_grad()\n",
    "            out = model(train_input)\n",
    "            loss = loss_fn(out, train_target)\n",
    "            loss.backward()\n",
    "            return loss\n",
    "\n",
    "        optimiser.step(closure)\n",
    "\n",
    "        with torch.no_grad():\n",
    "            future = 1000\n",
    "            pred = model(test_input, future_preds=future)\n",
    "            loss = loss_fn(pred[:, :-future], test_target)\n",
    "            y = pred.detach().numpy()\n",
    "\n",
    "        plt.figure(figsize=(12, 6))\n",
    "        plt.title(f\"Epoka {i+1}\")\n",
    "        plt.xlabel(\"Indeks próbki\")\n",
    "        plt.ylabel(\"Wartość\")\n",
    "\n",
    "        n = train_input.shape[1]\n",
    "\n",
    "        def draw(yi, colour):\n",
    "            plt.plot(np.arange(n), yi[:n], colour, linewidth=2.0)\n",
    "            plt.plot(np.arange(n, n+future), yi[n:], colour+\":\", linewidth=2.0)\n",
    "\n",
    "        draw(y[0], 'r')\n",
    "        draw(y[1], 'b')\n",
    "        draw(y[2], 'g')\n",
    "\n",
    "        plt.show()\n",
    "\n",
    "        out = model(train_input)\n",
    "        loss_print = loss_fn(out, train_target)\n",
    "        print(f\"Epoka {i+1}, Loss: {loss_print}\")\n",
    "\n",
    "training_loop(n_epochs=2, model=model, optimiser=optimiser, loss_fn=criterion,\n",
    "              train_input=train_input, train_target=train_target, \n",
    "              test_input=test_input, test_target=test_target)\n"
   ]
  },
  {
   "cell_type": "code",
   "execution_count": null,
   "id": "d2adc0c7",
   "metadata": {},
   "outputs": [],
   "source": []
  }
 ],
 "metadata": {
  "kernelspec": {
   "display_name": "Python 3 (ipykernel)",
   "language": "python",
   "name": "python3"
  },
  "language_info": {
   "codemirror_mode": {
    "name": "ipython",
    "version": 3
   },
   "file_extension": ".py",
   "mimetype": "text/x-python",
   "name": "python",
   "nbconvert_exporter": "python",
   "pygments_lexer": "ipython3",
   "version": "3.9.21"
  }
 },
 "nbformat": 4,
 "nbformat_minor": 5
}
