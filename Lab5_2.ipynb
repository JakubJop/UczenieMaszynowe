{
 "cells": [
  {
   "cell_type": "markdown",
   "metadata": {
    "id": "DBGAOy0BC_uf"
   },
   "source": [
    "![![University of Information Technology and Management in Rzeszow, Poland](https://gitlab.wsiz.pl/lgajecki/SA/-/raw/master/wsiz_eng.png)](wsiz_eng.png)\n",
    "\n",
    "## Machine learning \n",
    "## Laboratory 5 (part 2) - Neural Networks in PyTorch"
   ]
  },
  {
   "cell_type": "markdown",
   "metadata": {
    "id": "xX7XB2Jz_2KI"
   },
   "source": [
    "**Required for final test:** -  creation of neural networks (chapter 3) -class Net etc.. You will get function to get dataset and training code. Your task will be creation of network\n",
    "\n",
    "**This laboratory** -  How to create neural networks. But the aim is to feel well in network creation look at chapter 3 (at least first example) - and how to create classes in Python.\n",
    "\n",
    "**Project** - This laboratory may be the base for projects (ie. Team Project etc., find dataset on internet,develop something more). Important always remember to create network that differ from laboratory material, or tutorial (number of layers, number of neuron in hidden layer, nonlinear function or - difficult: another layer). It is also good to run and report your task on original network (citing sourse), then on your own network.\n",
    "\n",
    "**Note** Pytorch library wraps large number of popular datasets ie: https://docs.pytorch.org/vision/main/datasets.html and https://docs.pytorch.org/vision/stable/models.html (torchvision), but also sub-library torchaudio, torchtext. "
   ]
  },
  {
   "cell_type": "code",
   "execution_count": 1,
   "metadata": {
    "id": "wJsGipmcGRuz"
   },
   "outputs": [],
   "source": [
    "import torch\n",
    "import torch.nn.functional  as F\n",
    "import math\n",
    "import matplotlib.pyplot as plt\n",
    "import numpy as np\n",
    "from sklearn import datasets\n",
    "from sklearn.model_selection import train_test_split"
   ]
  },
  {
   "cell_type": "markdown",
   "metadata": {
    "id": "QXMaAyPekLut"
   },
   "source": [
    "## 1. Fundamentals of object -oriented programming in Python\n",
    "\n",
    "**Exercise 1.** To understand better the code of the network we will create simple class "
   ]
  },
  {
   "cell_type": "code",
   "execution_count": 2,
   "metadata": {
    "colab": {
     "base_uri": "https://localhost:8080/"
    },
    "id": "S0c76Md7kHiF",
    "outputId": "891a276c-9d7f-4cc1-c5c8-196fd3e3367a"
   },
   "outputs": [
    {
     "name": "stdout",
     "output_type": "stream",
     "text": [
      "Object contains variables a= 1  b= 2\n",
      "objectA.a =  1\n"
     ]
    }
   ],
   "source": [
    "class A:\n",
    "\n",
    "  def __init__(self,a, b):   # constructor, each method has to have 'self' -pointer for this object\n",
    "    self.a=a   # first use of self.a - creates 'a' variable in this object ,  a - is regular variable (not self.a) \n",
    "    self.__b=b   # unsercores __ denote private variable\n",
    "\n",
    "  def info(self):    # method without parameters, each method has to have 'self' at first place \n",
    "    print('Object contains variables a=',self.a,' b=',self.__b)   # access to self.a, self.b\n",
    "\n",
    "\n",
    "\n",
    "objectA=A(1,2)    # creation of object, uses constructor for a=1, b=2\n",
    "objectA.info()    # calling the metod\n",
    "print ('objectA.a = ',objectA.a) # access to a variable from object\n",
    "#print ('objectA.__b = ',objectA.__b) # no access to __b as private\n",
    " "
   ]
  },
  {
   "cell_type": "markdown",
   "metadata": {
    "id": "GQYEy0V_f1BZ"
   },
   "source": [
    "**Exercise 2.** Inheritance"
   ]
  },
  {
   "cell_type": "code",
   "execution_count": 3,
   "metadata": {
    "id": "_vzRBe5LbG6S"
   },
   "outputs": [
    {
     "name": "stdout",
     "output_type": "stream",
     "text": [
      "Object contains variables a=3 c=5\n"
     ]
    }
   ],
   "source": [
    "class B(A):\n",
    "  '''Here you can document class'''\n",
    "  def __init__(self,a,b,c):\n",
    "    super().__init__(a,b)  #calling constructor from base class. The super()\n",
    "    self.c=c\n",
    "\n",
    "  def info(self):\n",
    "    '''Here you can document metod\n",
    "    '''\n",
    "    print(f\"Object contains variables a={self.a} c={self.c}\") ##b={self.__b}  no possible, since __b is provate\n",
    "\n",
    "objectB=B(3,4,5)\n",
    "objectB.info()"
   ]
  },
  {
   "cell_type": "markdown",
   "metadata": {
    "id": "2v3AD5iwiAYG"
   },
   "source": [
    "Classes can override several special metods like: \n",
    "\n",
    "> `__call__` - operator () -callable object\n",
    "\n",
    ">`__iter__` -iterator , `__next__` -next position of iterator\n",
    "\n",
    ">`__len__` - length of sequence\n",
    "\n",
    ">`__getitem__` , `__setitem__`- indexer - operator []\n",
    "\n",
    ">`__add__` operator +\n",
    "\n",
    "\n",
    "See for details:  \n",
    "https://docs.python.org/3/tutorial/classes.html# - _Python, Documentation-The Python Tutorial,chapter 9. Classes,_\n",
    "\n",
    "https://docs.python.org/3/reference/datamodel.html?highlight=__call__#object.__call__ - _Python, Documentation-The Python Tutorial,chapter 3. Datamodel, paragraph: `object.__call__`_\n",
    "\n",
    "We will check `__call__` which is used by Pythorch"
   ]
  },
  {
   "cell_type": "markdown",
   "metadata": {},
   "source": [
    "**Exercise 3** Create class, which metod `__call__` calculate `x*k` where x is input, k object variable "
   ]
  },
  {
   "cell_type": "code",
   "execution_count": 4,
   "metadata": {
    "id": "dDkfaz7Qgftu"
   },
   "outputs": [
    {
     "name": "stdout",
     "output_type": "stream",
     "text": [
      "Result of ()  20\n",
      "Result of layer(x)  [ 10  20  30  50 100 150]\n"
     ]
    }
   ],
   "source": [
    "class MyLayer:\n",
    "  def __init__(self,param):\n",
    "    self.k=param\n",
    "\n",
    "  def __call__(self,x):\n",
    "    return self.k*x\n",
    "\n",
    "layer=MyLayer(10)\n",
    "result=layer(2)  #calls MyLayer.__call__(2)\n",
    "print('Result of () ',result)\n",
    "\n",
    "import numpy as np\n",
    "x=np.array([1,2,3,5,10,15])\n",
    "print('Result of layer(x) ',layer(x))"
   ]
  },
  {
   "cell_type": "markdown",
   "metadata": {},
   "source": [
    "Class `torch.nn.Module` require implemeentation of `forward()` method, which is called by `Module.__call__`.\n",
    "\n",
    "Method `forward` is used as a calculation of a network layer, subnetwork or the whole network, where input is parameter of mmethod, and output is returned."
   ]
  },
  {
   "cell_type": "code",
   "execution_count": 5,
   "metadata": {
    "colab": {
     "base_uri": "https://localhost:8080/"
    },
    "id": "IwUS2CTexdCT",
    "outputId": "579a83a8-3ef1-43c1-ef73-76444558028b"
   },
   "outputs": [
    {
     "name": "stdout",
     "output_type": "stream",
     "text": [
      "Result of ()  20\n",
      "Result of layer(x)  [ 10  20  30  50 100 150]\n"
     ]
    }
   ],
   "source": [
    "class MyLayer2(torch.nn.Module):\n",
    "  def __init__(self,param):\n",
    "    super().__init__()\n",
    "    self.k=param\n",
    "\n",
    "  def forward(self,x):  #__call__ calls this method\n",
    "    return self.k*x\n",
    "\n",
    "layer2=MyLayer2(10)\n",
    "result=layer2(2)  #calls MyLayer.__call__(2)\n",
    "print('Result of () ',result)\n",
    "\n",
    "import numpy as np\n",
    "x=np.array([1,2,3,5,10,15])\n",
    "print('Result of layer(x) ',layer2(x))"
   ]
  },
  {
   "cell_type": "markdown",
   "metadata": {},
   "source": [
    "## <span id=\"section2\">2.Dataset</span>\n",
    "### 2.1 Dataset generation"
   ]
  },
  {
   "cell_type": "code",
   "execution_count": 6,
   "metadata": {},
   "outputs": [
    {
     "name": "stdout",
     "output_type": "stream",
     "text": [
      "torch.float32 torch.float32 torch.float32\n"
     ]
    }
   ],
   "source": [
    "feature_set, labels = datasets.make_moons(200, noise=0.1)\n",
    "X_train, X_test, y_train, y_test = train_test_split(\n",
    "    torch.from_numpy(feature_set).float(), torch.from_numpy(labels).float().unsqueeze(1), test_size=0.2)\n",
    "X_train, X_valid, y_train, y_valid = train_test_split(\n",
    "    X_train, y_train, test_size=0.5) # split train 0.5 *0.8=40%, valid: 0.8 * 0.5=40%, test  20%\n",
    "\n",
    "#X_train=torch.from_numpy(X_train)\n",
    "#X_valid=torch.from_numpy(X_valid)\n",
    "#X_test=torch.from_numpy(X_test)\n",
    "\n",
    "#y_train=torch.from_numpy(y_train)\n",
    "#y_valid=torch.from_numpy(y_valid)\n",
    "#y_test=torch.from_numpy(y_test)\n",
    "\n",
    "print(f\"{y_train.dtype} {y_valid.dtype} {y_test.dtype}\")\n"
   ]
  },
  {
   "cell_type": "markdown",
   "metadata": {},
   "source": [
    "Let we check the size of input and output vector. I will be necessairy to set the number of <span style='background:orange'>inputs of networks</span> the same as <span style='background:orange'>size of input vector</span>. Respectively <span style='background:lime'>number of  outputs </span> has to agree with <span style='background:lime'> output vector size </span>. Firstly we check the type of X_train - it is `torch.Tensor`. For this type (like for numpy) we have `.shape` property, and `size()` function"
   ]
  },
  {
   "cell_type": "code",
   "execution_count": 7,
   "metadata": {},
   "outputs": [
    {
     "name": "stdout",
     "output_type": "stream",
     "text": [
      "The type of X_train is <class 'torch.Tensor'>\n",
      "X_train:  torch.Size([80, 2])  y_train: torch.Size([80, 1])\n"
     ]
    }
   ],
   "source": [
    "print(f'The type of X_train is {type(X_train)}')\n",
    "print('X_train: ',X_train.shape,' y_train:',y_train.size())"
   ]
  },
  {
   "cell_type": "markdown",
   "metadata": {},
   "source": [
    "This mean, that 80 is number of vectors, the input vector size is 2, the output vector size is 1."
   ]
  },
  {
   "cell_type": "markdown",
   "metadata": {},
   "source": [
    "### 2.2 Output encoding\n",
    "\n",
    "The outputs of neurons will take respective forms depends on the task of network:\n",
    "- **Regression** - the network try to follow y values. Network can represent the function transforming x into y (The application can be learn of unknown function or prediction of future data). Then outputs will be a vector of floating point numbers. The size of outputs will be the same as single vector y.\n",
    "- **Classification** - the network divides input data into several classes. For example what letter is on image: 'A','B, or 'C' (here 3 classes). The output encoding is one-hot. In this encoding one output- which refer to recognized class is `1` , the rest outputs i `0`. In dicussed example, letter 'C' will be encoded as `[0,0,1]` The outputs folow to this values, the resulting output will be `0` or `1` depends which value is closer to (so in our example real output can be `[0.23,0.1,0.9]`).\n",
    "- **Two class classification** - this is also classification as above. However having two classes we can have two outputs (as above). We can use one neuron, which output closer to `0` will mean one class, and closer to `1` will mean second class  \n",
    "\n",
    "In all above cases the construction of the network will be the same, but only respective coding of y will be needed.\n",
    "\n",
    "In this material we generated a [dataset](#section2) using `make_moons` function, which gives labels of two class, as single value `0` or `1` \n"
   ]
  },
  {
   "cell_type": "markdown",
   "metadata": {
    "id": "lWtDUeJ5xHBb"
   },
   "source": [
    "## 3.Neural Networks in PyTorch\n",
    "\n",
    "    class Net(torch.nn.Module):\n",
    "\n",
    "        def __init__(self):   # def __init__(self,n_inp,n_out) ->  model=Net3(2,1)\n",
    "            super(Net, self).__init__()\n",
    "            self.linear1 = torch.nn.Linear(3, 2)\n",
    "            self.linear2 = torch.nn.Linear(2, 1)\n",
    "\n",
    "        def forward(self, x):\n",
    "\n",
    "            h_relu = F.relu(self.linear1(x))\n",
    "            y_out = F.relu(self.linear2(h_relu))\n",
    "            return y_out\n",
    "\n",
    "\n",
    "At constructor `def __init__(self)` we declare the layers: `self.linear1=torch.nn.Linear(3,2)` , so here the `linear1` will be the member of the class. The  constructor class `Layer` has parameters: `Layer(n_inputs,n_outputs)`-respectively number of inputs and number of outputs. Next there is the declaration of second layer `linear2`. Note, that number of outputs (=2) of first layer `layer1` **has to agree with number of inputs to the second layer** `layer2`. Number of inputs of `layer1` (=3) **has to agree with number of network inputs**, and the same way: numer of outputs of `linear2` layer has to **agree with the number of network outputs**\n",
    "\n",
    "Function def forward(self, x): contains all the computation to calculate network output. For example `h_relu = F.relu(self.linear1(x))` caculates the output of 'linear1 for given' `x`, then calculates nonlinear function (at pytorch documentation there are some layers and nonlnear functions).\n",
    "\n",
    "Example of new network calculations:\n",
    "\n",
    "`model=Net()` - new object none parameters\n",
    "\n",
    "`y_pred = model(x)` - calculating the output of neaural network (calling `forward(...)`)\n",
    "\n",
    "<div class=\"alert alert-block alert-info\">\n",
    "    <b>Hint</b> to solve the problems with size of layers we can debug forward method or add print() there to check the size of vectors, ie. :</div>\n",
    "\n",
    "        def forward(self, x):\n",
    "\n",
    "            h_relu = F.relu(self.linear1(x))\n",
    "            print('h_relu:',h_relu.shape)\n",
    "            y_out = F.relu(self.linear2(h_relu))\n",
    "            return y_out\n"
   ]
  },
  {
   "cell_type": "markdown",
   "metadata": {},
   "source": [
    "<div class=\"alert alert-block alert-danger\">\n",
    "    <b>Hint</b> In shared disc (Shared disc at WU == K: == ftp:\\\\ftp.wsiz.rzeszow.pl\\..\\WSPOLNY\\ ) in course folder  K:\\LGajecki\\ComputIntelligence  you can find file  Lab2\\Lab2_sieci_pytorch.pdf , where I point to connections between layers, number of inputs and outs of the network </div>"
   ]
  },
  {
   "cell_type": "code",
   "execution_count": 8,
   "metadata": {},
   "outputs": [],
   "source": [
    "class Net(torch.nn.Module):\n",
    "  \"\"\"\n",
    "  In the constructor we instantiate two nn.Linear modules and assign them as\n",
    "  member variables.\n",
    "  \"\"\"\n",
    "  def __init__(self):   # def __init__(self,n_inp,n_out) ->  model=Net3(2,1)\n",
    "        super(Net, self).__init__()\n",
    "        self.linear1 = torch.nn.Linear(in_features=2, out_features=5) \n",
    "        # parameters of Linear may be also positional parameters: self.linear1 = torch.nn.Linear(2,5)\n",
    "        self.linear2 = torch.nn.Linear(in_features=5, out_features=1)\n",
    "\n",
    "  def forward(self, x):\n",
    "        \"\"\"\n",
    "        In the forward function we accept a Tensor of input data and we must return\n",
    "        a Tensor of output data. We can use Modules defined in the constructor as\n",
    "        well as arbitrary operators on Tensors.\n",
    "        \"\"\"\n",
    "        h_relu = F.relu(self.linear1(x)) #F.leaky_relu\n",
    "        #print('h_relu:',h_relu.shape)\n",
    "        y_out = F.relu(self.linear2(h_relu))\n",
    "        return y_out \n",
    "\n"
   ]
  },
  {
   "cell_type": "markdown",
   "metadata": {
    "id": "uU5Ex53RA4m9"
   },
   "source": [
    "Input is size 2, output size 1. The network has 2 layers: layer 1- 5 neurons , Relu activation, layer 2- 1 neuron \n",
    "\n",
    "Check other activation functions: \n",
    "https://pytorch.org/docs/stable/nn.functional.html \n",
    "https://pytorch.org/docs/stable/nn.html _Pytorch Documentation (torch.nn.functional, torch.nn )_"
   ]
  },
  {
   "cell_type": "markdown",
   "metadata": {
    "id": "2IkQwTzbz9pl"
   },
   "source": [
    "Training code. You can add the plotting of y_pred value."
   ]
  },
  {
   "cell_type": "code",
   "execution_count": 9,
   "metadata": {
    "colab": {
     "base_uri": "https://localhost:8080/"
    },
    "id": "CTnQEP4XJahz",
    "outputId": "ca4bfdc0-f221-45d2-a7a6-939afb55cef2"
   },
   "outputs": [],
   "source": [
    "def training(model,X_train,y_train,X_valid,y_valid,X_test,y_test):\n",
    "\n",
    "    train_err=[]\n",
    "    valid_err=[]\n",
    "\n",
    "    criterion = torch.nn.MSELoss(reduction='sum')\n",
    "    optimizer = torch.optim.SGD(model.parameters(), lr=1e-3) #Adam\n",
    "\n",
    "    for t in range(20000):\n",
    "        # Forward pass: Compute predicted y by passing x to the model\n",
    "        y_pred = model(X_train)\n",
    "        \n",
    "        # Compute and print loss\n",
    "        loss = criterion(y_pred, y_train)\n",
    "        \n",
    "        # Zero gradients, perform a backward pass, and update the weights.\n",
    "        optimizer.zero_grad()\n",
    "        loss.backward()\n",
    "        optimizer.step()\n",
    "    \n",
    "        tr_err=loss.item()\n",
    "        train_err.append(tr_err)\n",
    "        \n",
    "        #validation, no gradient calculation\n",
    "        with torch.no_grad():\n",
    "            y_pred = model(X_valid)\n",
    "            loss = criterion(y_pred, y_valid)\n",
    "            valid_err.append(loss.item())\n",
    "    \n",
    "        if t % 1000 == 0 or ( t<1000 and t % 100 ==0 ):\n",
    "            print(f\"iter: {t} traning err: {tr_err} validation err: {loss.item()}\")\n",
    "    \n",
    "    #test, no gradient calculation\n",
    "    with torch.no_grad():\n",
    "        y_pred = model(X_test)\n",
    "        loss = criterion(y_pred, y_test)\n",
    "        print(\"Test error:\",loss.item())\n",
    "                  \n",
    "    return train_err,valid_err"
   ]
  },
  {
   "cell_type": "markdown",
   "metadata": {},
   "source": [
    "<div class=\"alert alert-block alert-success\">\n",
    "    <b>Hint</b> Note the elements of training code in <emb>training() </emb> function which has influence on traing</div>\n",
    "\n",
    "- The most fundamental is *learning rate* parameter, which is denoted as `lr` in line:\n",
    "```\n",
    "torch.optim.SGD(model.parameters(), lr=1e-3)\n",
    "```\n",
    "\n",
    "> Note that `torch.optim.SGD`contains also other optional parameters ie.`momentum`, `weight_decay`\n",
    "\n",
    "- Other optimizers (than `SGD`) may improve training: Adam,Adadelta, etc, you can find them in documentation for namespace `torch.optim` \n",
    "\n",
    "> Optimizers: https://pytorch.org/docs/stable/nn.optim.html _Pytorch Documentation (torch.nn.optim )_\n",
    "\n",
    "- Other loss functions (than MSELoss) are in namespace torch.nn . Important to note, that some of them expect y_train (target) as vector of output values (like for regression, but works for classification) ie. `MSELoss`, `L1Loss`. Others require y_train vector as id of class (like: `[2,5,1]`), but also as the vector of class probabilities (like `[0.1,0.1,0.8],[0.2,0.5,0.3],[0.1,0.9,0]`, you may use softmax to normalize the to 1) ie. `CrossEntropyLoss` ,`CTCLoss`,`NLLLoss`\n",
    "\n",
    "> Loss functions: https://pytorch.org/docs/stable/nn.html#loss-functions _Pytorch Documentation (torch.nn , section: Loss Functions )_\n",
    "\n",
    "<div class=\"alert alert-block alert-info\">\n",
    "    <b>Hint</b> During training you may stuck in local minimum. You need then create object of network again (pytorch initialize randomly parameters , but in __init__, it means in creations of layers etc. )</div>\n",
    "          "
   ]
  },
  {
   "cell_type": "code",
   "execution_count": 10,
   "metadata": {},
   "outputs": [
    {
     "name": "stdout",
     "output_type": "stream",
     "text": [
      "iter: 0 traning err: 41.0 validation err: 41.0\n",
      "iter: 100 traning err: 41.0 validation err: 41.0\n",
      "iter: 200 traning err: 41.0 validation err: 41.0\n",
      "iter: 300 traning err: 41.0 validation err: 41.0\n",
      "iter: 400 traning err: 41.0 validation err: 41.0\n",
      "iter: 500 traning err: 41.0 validation err: 41.0\n",
      "iter: 600 traning err: 41.0 validation err: 41.0\n",
      "iter: 700 traning err: 41.0 validation err: 41.0\n",
      "iter: 800 traning err: 41.0 validation err: 41.0\n",
      "iter: 900 traning err: 41.0 validation err: 41.0\n",
      "iter: 1000 traning err: 41.0 validation err: 41.0\n",
      "iter: 2000 traning err: 41.0 validation err: 41.0\n",
      "iter: 3000 traning err: 41.0 validation err: 41.0\n",
      "iter: 4000 traning err: 41.0 validation err: 41.0\n",
      "iter: 5000 traning err: 41.0 validation err: 41.0\n",
      "iter: 6000 traning err: 41.0 validation err: 41.0\n",
      "iter: 7000 traning err: 41.0 validation err: 41.0\n",
      "iter: 8000 traning err: 41.0 validation err: 41.0\n",
      "iter: 9000 traning err: 41.0 validation err: 41.0\n",
      "iter: 10000 traning err: 41.0 validation err: 41.0\n",
      "iter: 11000 traning err: 41.0 validation err: 41.0\n",
      "iter: 12000 traning err: 41.0 validation err: 41.0\n",
      "iter: 13000 traning err: 41.0 validation err: 41.0\n",
      "iter: 14000 traning err: 41.0 validation err: 41.0\n",
      "iter: 15000 traning err: 41.0 validation err: 41.0\n",
      "iter: 16000 traning err: 41.0 validation err: 41.0\n",
      "iter: 17000 traning err: 41.0 validation err: 41.0\n",
      "iter: 18000 traning err: 41.0 validation err: 41.0\n",
      "iter: 19000 traning err: 41.0 validation err: 41.0\n",
      "Test error: 18.0\n"
     ]
    }
   ],
   "source": [
    "model=Net()\n",
    "\n",
    "train_err,valid_err = training(model,X_train,y_train,X_valid,y_valid,X_test,y_test)"
   ]
  },
  {
   "cell_type": "code",
   "execution_count": 11,
   "metadata": {},
   "outputs": [
    {
     "data": {
      "text/plain": [
       "Net(\n",
       "  (linear1): Linear(in_features=2, out_features=5, bias=True)\n",
       "  (linear2): Linear(in_features=5, out_features=1, bias=True)\n",
       ")"
      ]
     },
     "execution_count": 11,
     "metadata": {},
     "output_type": "execute_result"
    }
   ],
   "source": [
    "model"
   ]
  },
  {
   "cell_type": "code",
   "execution_count": 12,
   "metadata": {},
   "outputs": [
    {
     "data": {
      "image/svg+xml": [
       "<?xml version=\"1.0\" encoding=\"UTF-8\" standalone=\"no\"?>\n",
       "<!DOCTYPE svg PUBLIC \"-//W3C//DTD SVG 1.1//EN\"\n",
       " \"http://www.w3.org/Graphics/SVG/1.1/DTD/svg11.dtd\">\n",
       "<!-- Generated by graphviz version 2.43.0 (0)\n",
       " -->\n",
       "<!-- Title: %3 Pages: 1 -->\n",
       "<svg width=\"342pt\" height=\"523pt\"\n",
       " viewBox=\"0.00 0.00 342.00 523.00\" xmlns=\"http://www.w3.org/2000/svg\" xmlns:xlink=\"http://www.w3.org/1999/xlink\">\n",
       "<g id=\"graph0\" class=\"graph\" transform=\"scale(1 1) rotate(0) translate(4 519)\">\n",
       "<title>%3</title>\n",
       "<polygon fill=\"white\" stroke=\"transparent\" points=\"-4,4 -4,-519 338,-519 338,4 -4,4\"/>\n",
       "<!-- 140626087575360 -->\n",
       "<g id=\"node1\" class=\"node\">\n",
       "<title>140626087575360</title>\n",
       "<polygon fill=\"#caff70\" stroke=\"black\" points=\"193.5,-31 139.5,-31 139.5,0 193.5,0 193.5,-31\"/>\n",
       "<text text-anchor=\"middle\" x=\"166.5\" y=\"-7\" font-family=\"monospace\" font-size=\"10.00\"> ()</text>\n",
       "</g>\n",
       "<!-- 140626082146528 -->\n",
       "<g id=\"node2\" class=\"node\">\n",
       "<title>140626082146528</title>\n",
       "<polygon fill=\"lightgrey\" stroke=\"black\" points=\"214,-86 119,-86 119,-67 214,-67 214,-86\"/>\n",
       "<text text-anchor=\"middle\" x=\"166.5\" y=\"-74\" font-family=\"monospace\" font-size=\"10.00\">MeanBackward0</text>\n",
       "</g>\n",
       "<!-- 140626082146528&#45;&gt;140626087575360 -->\n",
       "<g id=\"edge15\" class=\"edge\">\n",
       "<title>140626082146528&#45;&gt;140626087575360</title>\n",
       "<path fill=\"none\" stroke=\"black\" d=\"M166.5,-66.79C166.5,-60.07 166.5,-50.4 166.5,-41.34\"/>\n",
       "<polygon fill=\"black\" stroke=\"black\" points=\"170,-41.19 166.5,-31.19 163,-41.19 170,-41.19\"/>\n",
       "</g>\n",
       "<!-- 140626082147248 -->\n",
       "<g id=\"node3\" class=\"node\">\n",
       "<title>140626082147248</title>\n",
       "<polygon fill=\"lightgrey\" stroke=\"black\" points=\"214,-141 119,-141 119,-122 214,-122 214,-141\"/>\n",
       "<text text-anchor=\"middle\" x=\"166.5\" y=\"-129\" font-family=\"monospace\" font-size=\"10.00\">ReluBackward0</text>\n",
       "</g>\n",
       "<!-- 140626082147248&#45;&gt;140626082146528 -->\n",
       "<g id=\"edge1\" class=\"edge\">\n",
       "<title>140626082147248&#45;&gt;140626082146528</title>\n",
       "<path fill=\"none\" stroke=\"black\" d=\"M166.5,-121.75C166.5,-114.8 166.5,-104.85 166.5,-96.13\"/>\n",
       "<polygon fill=\"black\" stroke=\"black\" points=\"170,-96.09 166.5,-86.09 163,-96.09 170,-96.09\"/>\n",
       "</g>\n",
       "<!-- 140626082147440 -->\n",
       "<g id=\"node4\" class=\"node\">\n",
       "<title>140626082147440</title>\n",
       "<polygon fill=\"lightgrey\" stroke=\"black\" points=\"217,-196 116,-196 116,-177 217,-177 217,-196\"/>\n",
       "<text text-anchor=\"middle\" x=\"166.5\" y=\"-184\" font-family=\"monospace\" font-size=\"10.00\">AddmmBackward0</text>\n",
       "</g>\n",
       "<!-- 140626082147440&#45;&gt;140626082147248 -->\n",
       "<g id=\"edge2\" class=\"edge\">\n",
       "<title>140626082147440&#45;&gt;140626082147248</title>\n",
       "<path fill=\"none\" stroke=\"black\" d=\"M166.5,-176.75C166.5,-169.8 166.5,-159.85 166.5,-151.13\"/>\n",
       "<polygon fill=\"black\" stroke=\"black\" points=\"170,-151.09 166.5,-141.09 163,-151.09 170,-151.09\"/>\n",
       "</g>\n",
       "<!-- 140626082147392 -->\n",
       "<g id=\"node5\" class=\"node\">\n",
       "<title>140626082147392</title>\n",
       "<polygon fill=\"lightgrey\" stroke=\"black\" points=\"101,-251 0,-251 0,-232 101,-232 101,-251\"/>\n",
       "<text text-anchor=\"middle\" x=\"50.5\" y=\"-239\" font-family=\"monospace\" font-size=\"10.00\">AccumulateGrad</text>\n",
       "</g>\n",
       "<!-- 140626082147392&#45;&gt;140626082147440 -->\n",
       "<g id=\"edge3\" class=\"edge\">\n",
       "<title>140626082147392&#45;&gt;140626082147440</title>\n",
       "<path fill=\"none\" stroke=\"black\" d=\"M69.14,-231.98C87.8,-223.46 116.75,-210.23 138.24,-200.41\"/>\n",
       "<polygon fill=\"black\" stroke=\"black\" points=\"139.88,-203.51 147.52,-196.17 136.97,-197.14 139.88,-203.51\"/>\n",
       "</g>\n",
       "<!-- 140626113281536 -->\n",
       "<g id=\"node6\" class=\"node\">\n",
       "<title>140626113281536</title>\n",
       "<polygon fill=\"lightblue\" stroke=\"black\" points=\"95,-317 6,-317 6,-287 95,-287 95,-317\"/>\n",
       "<text text-anchor=\"middle\" x=\"50.5\" y=\"-305\" font-family=\"monospace\" font-size=\"10.00\">linear2.bias</text>\n",
       "<text text-anchor=\"middle\" x=\"50.5\" y=\"-294\" font-family=\"monospace\" font-size=\"10.00\"> (1)</text>\n",
       "</g>\n",
       "<!-- 140626113281536&#45;&gt;140626082147392 -->\n",
       "<g id=\"edge4\" class=\"edge\">\n",
       "<title>140626113281536&#45;&gt;140626082147392</title>\n",
       "<path fill=\"none\" stroke=\"black\" d=\"M50.5,-286.84C50.5,-279.21 50.5,-269.7 50.5,-261.45\"/>\n",
       "<polygon fill=\"black\" stroke=\"black\" points=\"54,-261.27 50.5,-251.27 47,-261.27 54,-261.27\"/>\n",
       "</g>\n",
       "<!-- 140626082146480 -->\n",
       "<g id=\"node7\" class=\"node\">\n",
       "<title>140626082146480</title>\n",
       "<polygon fill=\"lightgrey\" stroke=\"black\" points=\"214,-251 119,-251 119,-232 214,-232 214,-251\"/>\n",
       "<text text-anchor=\"middle\" x=\"166.5\" y=\"-239\" font-family=\"monospace\" font-size=\"10.00\">ReluBackward0</text>\n",
       "</g>\n",
       "<!-- 140626082146480&#45;&gt;140626082147440 -->\n",
       "<g id=\"edge5\" class=\"edge\">\n",
       "<title>140626082146480&#45;&gt;140626082147440</title>\n",
       "<path fill=\"none\" stroke=\"black\" d=\"M166.5,-231.75C166.5,-224.8 166.5,-214.85 166.5,-206.13\"/>\n",
       "<polygon fill=\"black\" stroke=\"black\" points=\"170,-206.09 166.5,-196.09 163,-206.09 170,-206.09\"/>\n",
       "</g>\n",
       "<!-- 140626082147200 -->\n",
       "<g id=\"node8\" class=\"node\">\n",
       "<title>140626082147200</title>\n",
       "<polygon fill=\"lightgrey\" stroke=\"black\" points=\"215,-311.5 114,-311.5 114,-292.5 215,-292.5 215,-311.5\"/>\n",
       "<text text-anchor=\"middle\" x=\"164.5\" y=\"-299.5\" font-family=\"monospace\" font-size=\"10.00\">AddmmBackward0</text>\n",
       "</g>\n",
       "<!-- 140626082147200&#45;&gt;140626082146480 -->\n",
       "<g id=\"edge6\" class=\"edge\">\n",
       "<title>140626082147200&#45;&gt;140626082146480</title>\n",
       "<path fill=\"none\" stroke=\"black\" d=\"M164.8,-292.37C165.07,-284.25 165.5,-271.81 165.85,-261.39\"/>\n",
       "<polygon fill=\"black\" stroke=\"black\" points=\"169.36,-261.28 166.2,-251.17 162.36,-261.04 169.36,-261.28\"/>\n",
       "</g>\n",
       "<!-- 140626082147008 -->\n",
       "<g id=\"node9\" class=\"node\">\n",
       "<title>140626082147008</title>\n",
       "<polygon fill=\"lightgrey\" stroke=\"black\" points=\"111,-377.5 10,-377.5 10,-358.5 111,-358.5 111,-377.5\"/>\n",
       "<text text-anchor=\"middle\" x=\"60.5\" y=\"-365.5\" font-family=\"monospace\" font-size=\"10.00\">AccumulateGrad</text>\n",
       "</g>\n",
       "<!-- 140626082147008&#45;&gt;140626082147200 -->\n",
       "<g id=\"edge7\" class=\"edge\">\n",
       "<title>140626082147008&#45;&gt;140626082147200</title>\n",
       "<path fill=\"none\" stroke=\"black\" d=\"M74.53,-358.37C91.74,-347.78 121.16,-329.67 141.65,-317.06\"/>\n",
       "<polygon fill=\"black\" stroke=\"black\" points=\"143.68,-319.92 150.36,-311.7 140.01,-313.96 143.68,-319.92\"/>\n",
       "</g>\n",
       "<!-- 140626113293344 -->\n",
       "<g id=\"node10\" class=\"node\">\n",
       "<title>140626113293344</title>\n",
       "<polygon fill=\"lightblue\" stroke=\"black\" points=\"104,-449 15,-449 15,-419 104,-419 104,-449\"/>\n",
       "<text text-anchor=\"middle\" x=\"59.5\" y=\"-437\" font-family=\"monospace\" font-size=\"10.00\">linear1.bias</text>\n",
       "<text text-anchor=\"middle\" x=\"59.5\" y=\"-426\" font-family=\"monospace\" font-size=\"10.00\"> (5)</text>\n",
       "</g>\n",
       "<!-- 140626113293344&#45;&gt;140626082147008 -->\n",
       "<g id=\"edge8\" class=\"edge\">\n",
       "<title>140626113293344&#45;&gt;140626082147008</title>\n",
       "<path fill=\"none\" stroke=\"black\" d=\"M59.72,-418.8C59.86,-409.7 60.05,-397.79 60.2,-387.9\"/>\n",
       "<polygon fill=\"black\" stroke=\"black\" points=\"63.71,-387.9 60.36,-377.84 56.71,-387.79 63.71,-387.9\"/>\n",
       "</g>\n",
       "<!-- 140626082147056 -->\n",
       "<g id=\"node11\" class=\"node\">\n",
       "<title>140626082147056</title>\n",
       "<polygon fill=\"lightgrey\" stroke=\"black\" points=\"209,-377.5 132,-377.5 132,-358.5 209,-358.5 209,-377.5\"/>\n",
       "<text text-anchor=\"middle\" x=\"170.5\" y=\"-365.5\" font-family=\"monospace\" font-size=\"10.00\">TBackward0</text>\n",
       "</g>\n",
       "<!-- 140626082147056&#45;&gt;140626082147200 -->\n",
       "<g id=\"edge9\" class=\"edge\">\n",
       "<title>140626082147056&#45;&gt;140626082147200</title>\n",
       "<path fill=\"none\" stroke=\"black\" d=\"M169.69,-358.37C168.82,-349.07 167.4,-333.98 166.27,-321.9\"/>\n",
       "<polygon fill=\"black\" stroke=\"black\" points=\"169.75,-321.53 165.33,-311.91 162.78,-322.19 169.75,-321.53\"/>\n",
       "</g>\n",
       "<!-- 140626082146960 -->\n",
       "<g id=\"node12\" class=\"node\">\n",
       "<title>140626082146960</title>\n",
       "<polygon fill=\"lightgrey\" stroke=\"black\" points=\"223,-443.5 122,-443.5 122,-424.5 223,-424.5 223,-443.5\"/>\n",
       "<text text-anchor=\"middle\" x=\"172.5\" y=\"-431.5\" font-family=\"monospace\" font-size=\"10.00\">AccumulateGrad</text>\n",
       "</g>\n",
       "<!-- 140626082146960&#45;&gt;140626082147056 -->\n",
       "<g id=\"edge10\" class=\"edge\">\n",
       "<title>140626082146960&#45;&gt;140626082147056</title>\n",
       "<path fill=\"none\" stroke=\"black\" d=\"M172.23,-424.37C171.94,-415.16 171.48,-400.29 171.1,-388.27\"/>\n",
       "<polygon fill=\"black\" stroke=\"black\" points=\"174.59,-387.79 170.78,-377.91 167.59,-388.01 174.59,-387.79\"/>\n",
       "</g>\n",
       "<!-- 140626113293424 -->\n",
       "<g id=\"node13\" class=\"node\">\n",
       "<title>140626113293424</title>\n",
       "<polygon fill=\"lightblue\" stroke=\"black\" points=\"223,-515 122,-515 122,-485 223,-485 223,-515\"/>\n",
       "<text text-anchor=\"middle\" x=\"172.5\" y=\"-503\" font-family=\"monospace\" font-size=\"10.00\">linear1.weight</text>\n",
       "<text text-anchor=\"middle\" x=\"172.5\" y=\"-492\" font-family=\"monospace\" font-size=\"10.00\"> (5, 2)</text>\n",
       "</g>\n",
       "<!-- 140626113293424&#45;&gt;140626082146960 -->\n",
       "<g id=\"edge11\" class=\"edge\">\n",
       "<title>140626113293424&#45;&gt;140626082146960</title>\n",
       "<path fill=\"none\" stroke=\"black\" d=\"M172.5,-484.8C172.5,-475.7 172.5,-463.79 172.5,-453.9\"/>\n",
       "<polygon fill=\"black\" stroke=\"black\" points=\"176,-453.84 172.5,-443.84 169,-453.84 176,-453.84\"/>\n",
       "</g>\n",
       "<!-- 140626082147536 -->\n",
       "<g id=\"node14\" class=\"node\">\n",
       "<title>140626082147536</title>\n",
       "<polygon fill=\"lightgrey\" stroke=\"black\" points=\"315,-251 238,-251 238,-232 315,-232 315,-251\"/>\n",
       "<text text-anchor=\"middle\" x=\"276.5\" y=\"-239\" font-family=\"monospace\" font-size=\"10.00\">TBackward0</text>\n",
       "</g>\n",
       "<!-- 140626082147536&#45;&gt;140626082147440 -->\n",
       "<g id=\"edge12\" class=\"edge\">\n",
       "<title>140626082147536&#45;&gt;140626082147440</title>\n",
       "<path fill=\"none\" stroke=\"black\" d=\"M258.83,-231.98C241.21,-223.5 213.92,-210.35 193.57,-200.54\"/>\n",
       "<polygon fill=\"black\" stroke=\"black\" points=\"195.02,-197.36 184.49,-196.17 191.98,-203.66 195.02,-197.36\"/>\n",
       "</g>\n",
       "<!-- 140626082146912 -->\n",
       "<g id=\"node15\" class=\"node\">\n",
       "<title>140626082146912</title>\n",
       "<polygon fill=\"lightgrey\" stroke=\"black\" points=\"334,-311.5 233,-311.5 233,-292.5 334,-292.5 334,-311.5\"/>\n",
       "<text text-anchor=\"middle\" x=\"283.5\" y=\"-299.5\" font-family=\"monospace\" font-size=\"10.00\">AccumulateGrad</text>\n",
       "</g>\n",
       "<!-- 140626082146912&#45;&gt;140626082147536 -->\n",
       "<g id=\"edge13\" class=\"edge\">\n",
       "<title>140626082146912&#45;&gt;140626082147536</title>\n",
       "<path fill=\"none\" stroke=\"black\" d=\"M282.47,-292.37C281.5,-284.25 280.01,-271.81 278.76,-261.39\"/>\n",
       "<polygon fill=\"black\" stroke=\"black\" points=\"282.2,-260.68 277.54,-251.17 275.25,-261.51 282.2,-260.68\"/>\n",
       "</g>\n",
       "<!-- 140627020115696 -->\n",
       "<g id=\"node16\" class=\"node\">\n",
       "<title>140627020115696</title>\n",
       "<polygon fill=\"lightblue\" stroke=\"black\" points=\"334,-383 233,-383 233,-353 334,-353 334,-383\"/>\n",
       "<text text-anchor=\"middle\" x=\"283.5\" y=\"-371\" font-family=\"monospace\" font-size=\"10.00\">linear2.weight</text>\n",
       "<text text-anchor=\"middle\" x=\"283.5\" y=\"-360\" font-family=\"monospace\" font-size=\"10.00\"> (1, 5)</text>\n",
       "</g>\n",
       "<!-- 140627020115696&#45;&gt;140626082146912 -->\n",
       "<g id=\"edge14\" class=\"edge\">\n",
       "<title>140627020115696&#45;&gt;140626082146912</title>\n",
       "<path fill=\"none\" stroke=\"black\" d=\"M283.5,-352.8C283.5,-343.7 283.5,-331.79 283.5,-321.9\"/>\n",
       "<polygon fill=\"black\" stroke=\"black\" points=\"287,-321.84 283.5,-311.84 280,-321.84 287,-321.84\"/>\n",
       "</g>\n",
       "</g>\n",
       "</svg>\n"
      ],
      "text/plain": [
       "<graphviz.graphs.Digraph at 0x7fe60fac2910>"
      ]
     },
     "execution_count": 12,
     "metadata": {},
     "output_type": "execute_result"
    }
   ],
   "source": [
    "from torchviz import make_dot\n",
    "#y = model(X)# Required\n",
    "y_pred = model(X_train)\n",
    "make_dot(y_pred.mean(), params=dict(model.named_parameters()))"
   ]
  },
  {
   "cell_type": "code",
   "execution_count": 13,
   "metadata": {},
   "outputs": [
    {
     "data": {
      "image/svg+xml": [
       "<?xml version=\"1.0\" encoding=\"UTF-8\" standalone=\"no\"?>\n",
       "<!DOCTYPE svg PUBLIC \"-//W3C//DTD SVG 1.1//EN\"\n",
       " \"http://www.w3.org/Graphics/SVG/1.1/DTD/svg11.dtd\">\n",
       "<!-- Generated by graphviz version 2.43.0 (0)\n",
       " -->\n",
       "<!-- Title: model Pages: 1 -->\n",
       "<svg width=\"142pt\" height=\"420pt\"\n",
       " viewBox=\"0.00 0.00 142.00 420.00\" xmlns=\"http://www.w3.org/2000/svg\" xmlns:xlink=\"http://www.w3.org/1999/xlink\">\n",
       "<g id=\"graph0\" class=\"graph\" transform=\"scale(1 1) rotate(0) translate(4 416)\">\n",
       "<title>model</title>\n",
       "<polygon fill=\"white\" stroke=\"transparent\" points=\"-4,4 -4,-416 138,-416 138,4 -4,4\"/>\n",
       "<!-- 0 -->\n",
       "<g id=\"node1\" class=\"node\">\n",
       "<title>0</title>\n",
       "<polygon fill=\"lightyellow\" stroke=\"transparent\" points=\"120,-412 14,-412 14,-380 120,-380 120,-412\"/>\n",
       "<polygon fill=\"none\" stroke=\"black\" points=\"14,-380 14,-412 84,-412 84,-380 14,-380\"/>\n",
       "<text text-anchor=\"start\" x=\"19\" y=\"-399\" font-family=\"Linux libertine\" font-size=\"10.00\">input&#45;tensor</text>\n",
       "<text text-anchor=\"start\" x=\"30.5\" y=\"-388\" font-family=\"Linux libertine\" font-size=\"10.00\">depth:0</text>\n",
       "<polygon fill=\"none\" stroke=\"black\" points=\"84,-380 84,-412 120,-412 120,-380 84,-380\"/>\n",
       "<text text-anchor=\"start\" x=\"89\" y=\"-393.5\" font-family=\"Linux libertine\" font-size=\"10.00\">(1, 2)</text>\n",
       "</g>\n",
       "<!-- 1 -->\n",
       "<g id=\"node2\" class=\"node\">\n",
       "<title>1</title>\n",
       "<polygon fill=\"#c1ffc1\" stroke=\"transparent\" points=\"134,-344 0,-344 0,-302 134,-302 134,-344\"/>\n",
       "<polygon fill=\"none\" stroke=\"black\" points=\"0,-302 0,-344 47,-344 47,-302 0,-302\"/>\n",
       "<text text-anchor=\"start\" x=\"8\" y=\"-326\" font-family=\"Linux libertine\" font-size=\"10.00\">Linear</text>\n",
       "<text text-anchor=\"start\" x=\"5\" y=\"-315\" font-family=\"Linux libertine\" font-size=\"10.00\">depth:1</text>\n",
       "<polygon fill=\"none\" stroke=\"black\" points=\"47,-323 47,-344 95,-344 95,-323 47,-323\"/>\n",
       "<text text-anchor=\"start\" x=\"57\" y=\"-331\" font-family=\"Linux libertine\" font-size=\"10.00\">input:</text>\n",
       "<polygon fill=\"none\" stroke=\"black\" points=\"95,-323 95,-344 134,-344 134,-323 95,-323\"/>\n",
       "<text text-anchor=\"start\" x=\"100\" y=\"-331\" font-family=\"Linux libertine\" font-size=\"10.00\">(1, 2) </text>\n",
       "<polygon fill=\"none\" stroke=\"black\" points=\"47,-302 47,-323 95,-323 95,-302 47,-302\"/>\n",
       "<text text-anchor=\"start\" x=\"52\" y=\"-310\" font-family=\"Linux libertine\" font-size=\"10.00\">output: </text>\n",
       "<polygon fill=\"none\" stroke=\"black\" points=\"95,-302 95,-323 134,-323 134,-302 95,-302\"/>\n",
       "<text text-anchor=\"start\" x=\"100\" y=\"-310\" font-family=\"Linux libertine\" font-size=\"10.00\">(1, 5) </text>\n",
       "</g>\n",
       "<!-- 0&#45;&gt;1 -->\n",
       "<g id=\"edge1\" class=\"edge\">\n",
       "<title>0&#45;&gt;1</title>\n",
       "<path fill=\"none\" stroke=\"black\" d=\"M67,-379.94C67,-372.45 67,-363.12 67,-354.24\"/>\n",
       "<polygon fill=\"black\" stroke=\"black\" points=\"70.5,-354.16 67,-344.16 63.5,-354.16 70.5,-354.16\"/>\n",
       "</g>\n",
       "<!-- 2 -->\n",
       "<g id=\"node3\" class=\"node\">\n",
       "<title>2</title>\n",
       "<polygon fill=\"aliceblue\" stroke=\"transparent\" points=\"134,-266 0,-266 0,-224 134,-224 134,-266\"/>\n",
       "<polygon fill=\"none\" stroke=\"black\" points=\"0,-224 0,-266 47,-266 47,-224 0,-224\"/>\n",
       "<text text-anchor=\"start\" x=\"14\" y=\"-248\" font-family=\"Linux libertine\" font-size=\"10.00\">relu</text>\n",
       "<text text-anchor=\"start\" x=\"5\" y=\"-237\" font-family=\"Linux libertine\" font-size=\"10.00\">depth:1</text>\n",
       "<polygon fill=\"none\" stroke=\"black\" points=\"47,-245 47,-266 95,-266 95,-245 47,-245\"/>\n",
       "<text text-anchor=\"start\" x=\"57\" y=\"-253\" font-family=\"Linux libertine\" font-size=\"10.00\">input:</text>\n",
       "<polygon fill=\"none\" stroke=\"black\" points=\"95,-245 95,-266 134,-266 134,-245 95,-245\"/>\n",
       "<text text-anchor=\"start\" x=\"100\" y=\"-253\" font-family=\"Linux libertine\" font-size=\"10.00\">(1, 5) </text>\n",
       "<polygon fill=\"none\" stroke=\"black\" points=\"47,-224 47,-245 95,-245 95,-224 47,-224\"/>\n",
       "<text text-anchor=\"start\" x=\"52\" y=\"-232\" font-family=\"Linux libertine\" font-size=\"10.00\">output: </text>\n",
       "<polygon fill=\"none\" stroke=\"black\" points=\"95,-224 95,-245 134,-245 134,-224 95,-224\"/>\n",
       "<text text-anchor=\"start\" x=\"100\" y=\"-232\" font-family=\"Linux libertine\" font-size=\"10.00\">(1, 5) </text>\n",
       "</g>\n",
       "<!-- 1&#45;&gt;2 -->\n",
       "<g id=\"edge2\" class=\"edge\">\n",
       "<title>1&#45;&gt;2</title>\n",
       "<path fill=\"none\" stroke=\"black\" d=\"M67,-301.63C67,-293.82 67,-284.73 67,-276.18\"/>\n",
       "<polygon fill=\"black\" stroke=\"black\" points=\"70.5,-276.16 67,-266.16 63.5,-276.16 70.5,-276.16\"/>\n",
       "</g>\n",
       "<!-- 3 -->\n",
       "<g id=\"node4\" class=\"node\">\n",
       "<title>3</title>\n",
       "<polygon fill=\"#c1ffc1\" stroke=\"transparent\" points=\"134,-188 0,-188 0,-146 134,-146 134,-188\"/>\n",
       "<polygon fill=\"none\" stroke=\"black\" points=\"0,-146 0,-188 47,-188 47,-146 0,-146\"/>\n",
       "<text text-anchor=\"start\" x=\"8\" y=\"-170\" font-family=\"Linux libertine\" font-size=\"10.00\">Linear</text>\n",
       "<text text-anchor=\"start\" x=\"5\" y=\"-159\" font-family=\"Linux libertine\" font-size=\"10.00\">depth:1</text>\n",
       "<polygon fill=\"none\" stroke=\"black\" points=\"47,-167 47,-188 95,-188 95,-167 47,-167\"/>\n",
       "<text text-anchor=\"start\" x=\"57\" y=\"-175\" font-family=\"Linux libertine\" font-size=\"10.00\">input:</text>\n",
       "<polygon fill=\"none\" stroke=\"black\" points=\"95,-167 95,-188 134,-188 134,-167 95,-167\"/>\n",
       "<text text-anchor=\"start\" x=\"100\" y=\"-175\" font-family=\"Linux libertine\" font-size=\"10.00\">(1, 5) </text>\n",
       "<polygon fill=\"none\" stroke=\"black\" points=\"47,-146 47,-167 95,-167 95,-146 47,-146\"/>\n",
       "<text text-anchor=\"start\" x=\"52\" y=\"-154\" font-family=\"Linux libertine\" font-size=\"10.00\">output: </text>\n",
       "<polygon fill=\"none\" stroke=\"black\" points=\"95,-146 95,-167 134,-167 134,-146 95,-146\"/>\n",
       "<text text-anchor=\"start\" x=\"100\" y=\"-154\" font-family=\"Linux libertine\" font-size=\"10.00\">(1, 1) </text>\n",
       "</g>\n",
       "<!-- 2&#45;&gt;3 -->\n",
       "<g id=\"edge3\" class=\"edge\">\n",
       "<title>2&#45;&gt;3</title>\n",
       "<path fill=\"none\" stroke=\"black\" d=\"M67,-223.63C67,-215.82 67,-206.73 67,-198.18\"/>\n",
       "<polygon fill=\"black\" stroke=\"black\" points=\"70.5,-198.16 67,-188.16 63.5,-198.16 70.5,-198.16\"/>\n",
       "</g>\n",
       "<!-- 4 -->\n",
       "<g id=\"node5\" class=\"node\">\n",
       "<title>4</title>\n",
       "<polygon fill=\"aliceblue\" stroke=\"transparent\" points=\"134,-110 0,-110 0,-68 134,-68 134,-110\"/>\n",
       "<polygon fill=\"none\" stroke=\"black\" points=\"0,-68 0,-110 47,-110 47,-68 0,-68\"/>\n",
       "<text text-anchor=\"start\" x=\"14\" y=\"-92\" font-family=\"Linux libertine\" font-size=\"10.00\">relu</text>\n",
       "<text text-anchor=\"start\" x=\"5\" y=\"-81\" font-family=\"Linux libertine\" font-size=\"10.00\">depth:1</text>\n",
       "<polygon fill=\"none\" stroke=\"black\" points=\"47,-89 47,-110 95,-110 95,-89 47,-89\"/>\n",
       "<text text-anchor=\"start\" x=\"57\" y=\"-97\" font-family=\"Linux libertine\" font-size=\"10.00\">input:</text>\n",
       "<polygon fill=\"none\" stroke=\"black\" points=\"95,-89 95,-110 134,-110 134,-89 95,-89\"/>\n",
       "<text text-anchor=\"start\" x=\"100\" y=\"-97\" font-family=\"Linux libertine\" font-size=\"10.00\">(1, 1) </text>\n",
       "<polygon fill=\"none\" stroke=\"black\" points=\"47,-68 47,-89 95,-89 95,-68 47,-68\"/>\n",
       "<text text-anchor=\"start\" x=\"52\" y=\"-76\" font-family=\"Linux libertine\" font-size=\"10.00\">output: </text>\n",
       "<polygon fill=\"none\" stroke=\"black\" points=\"95,-68 95,-89 134,-89 134,-68 95,-68\"/>\n",
       "<text text-anchor=\"start\" x=\"100\" y=\"-76\" font-family=\"Linux libertine\" font-size=\"10.00\">(1, 1) </text>\n",
       "</g>\n",
       "<!-- 3&#45;&gt;4 -->\n",
       "<g id=\"edge4\" class=\"edge\">\n",
       "<title>3&#45;&gt;4</title>\n",
       "<path fill=\"none\" stroke=\"black\" d=\"M67,-145.63C67,-137.82 67,-128.73 67,-120.18\"/>\n",
       "<polygon fill=\"black\" stroke=\"black\" points=\"70.5,-120.16 67,-110.16 63.5,-120.16 70.5,-120.16\"/>\n",
       "</g>\n",
       "<!-- 5 -->\n",
       "<g id=\"node6\" class=\"node\">\n",
       "<title>5</title>\n",
       "<polygon fill=\"lightyellow\" stroke=\"transparent\" points=\"123.5,-32 10.5,-32 10.5,0 123.5,0 123.5,-32\"/>\n",
       "<polygon fill=\"none\" stroke=\"black\" points=\"11,0 11,-32 88,-32 88,0 11,0\"/>\n",
       "<text text-anchor=\"start\" x=\"16\" y=\"-19\" font-family=\"Linux libertine\" font-size=\"10.00\">output&#45;tensor</text>\n",
       "<text text-anchor=\"start\" x=\"31\" y=\"-8\" font-family=\"Linux libertine\" font-size=\"10.00\">depth:0</text>\n",
       "<polygon fill=\"none\" stroke=\"black\" points=\"88,0 88,-32 124,-32 124,0 88,0\"/>\n",
       "<text text-anchor=\"start\" x=\"93\" y=\"-13.5\" font-family=\"Linux libertine\" font-size=\"10.00\">(1, 1)</text>\n",
       "</g>\n",
       "<!-- 4&#45;&gt;5 -->\n",
       "<g id=\"edge5\" class=\"edge\">\n",
       "<title>4&#45;&gt;5</title>\n",
       "<path fill=\"none\" stroke=\"black\" d=\"M67,-67.84C67,-59.89 67,-50.66 67,-42.26\"/>\n",
       "<polygon fill=\"black\" stroke=\"black\" points=\"70.5,-42.24 67,-32.24 63.5,-42.24 70.5,-42.24\"/>\n",
       "</g>\n",
       "</g>\n",
       "</svg>\n"
      ],
      "text/plain": [
       "<graphviz.graphs.Digraph at 0x7fe60fac2760>"
      ]
     },
     "execution_count": 13,
     "metadata": {},
     "output_type": "execute_result"
    }
   ],
   "source": [
    "from torchview import draw_graph\n",
    "\n",
    "batch_size = 1\n",
    "# device='meta' -> no memory is consumed for visualization, (LG): but later problems with training etc.\n",
    "model_graph = draw_graph(model, input_size=(batch_size, 2), device='cpu')\n",
    "model_graph.visual_graph"
   ]
  },
  {
   "cell_type": "code",
   "execution_count": 14,
   "metadata": {},
   "outputs": [
    {
     "data": {
      "image/png": "[encoded data removed]",
      "text/plain": [
       "<Figure size 640x480 with 1 Axes>"
      ]
     },
     "metadata": {},
     "output_type": "display_data"
    }
   ],
   "source": [
    "def plot_training(train_err,valid_err):\n",
    "    #show how the error drops vs training time\n",
    "    #show how accuracy incrases vs training time\n",
    "    #x axis shows the epoch number\n",
    "    #y axis shows the error for given epoch\n",
    "    #second y acix show the accuracy for given epoch\n",
    "\n",
    "    fig = plt.figure()\n",
    "\n",
    "    ax1 = fig.add_subplot(111)\n",
    "    ax1.set_xlabel(r\"Epochs\")  #adds description to scale on bottom\n",
    "    ax1.set_ylabel(r\"Loss - MSE\")  #adds description to scale on bottom\n",
    "\n",
    "    ax1.plot(train_err)       #draw function \n",
    "    ax1.plot(valid_err, c=\"orange\")\n",
    "    ax1.legend(['train','valid'])\n",
    "\n",
    "    plt.show()\n",
    "    \n",
    "plot_training(train_err,valid_err)"
   ]
  },
  {
   "cell_type": "code",
   "execution_count": 15,
   "metadata": {},
   "outputs": [
    {
     "data": {
      "text/plain": [
       "<matplotlib.collections.PathCollection at 0x7fe694814ac0>"
      ]
     },
     "execution_count": 15,
     "metadata": {},
     "output_type": "execute_result"
    },
    {
     "data": {
      "image/png": "[encoded data removed]",
      "text/plain": [
       "<Figure size 1000x700 with 1 Axes>"
      ]
     },
     "metadata": {},
     "output_type": "display_data"
    }
   ],
   "source": [
    "# visualisation of the dataset for analysis\n",
    "plt.figure(figsize=(10,7))\n",
    "X_train.numpy().shape, y_train.numpy().shape\n",
    "plt.scatter(X_train.numpy()[:,0], X_train.numpy()[:,1], c=y_train.numpy(), cmap=plt.cm.winter)"
   ]
  },
  {
   "cell_type": "markdown",
   "metadata": {},
   "source": [
    "### Decission boundary"
   ]
  },
  {
   "cell_type": "code",
   "execution_count": 16,
   "metadata": {},
   "outputs": [],
   "source": [
    "def draw_decission_boundary(model,xmin,xmax,ymin,ymax,steps=100):\n",
    "\n",
    "    cmap = plt.get_cmap('Paired')\n",
    "\n",
    "    #steps = 100\n",
    "\n",
    "    x_span = np.linspace(xmin, xmax, steps)\n",
    "    y_span = np.linspace(ymin, ymax, steps)\n",
    "    xx, yy = np.meshgrid(x_span, y_span)\n",
    "\n",
    "\n",
    "    # Plot decision boundary in region of interest\n",
    "\n",
    "    z = np.zeros(xx.shape,dtype=int)\n",
    "\n",
    "    ii=0\n",
    "    for i in x_span:\n",
    "        jj=0\n",
    "        for j in y_span:\n",
    "    \n",
    "            classification_criteria = 0.5\n",
    "\n",
    "            if model(torch.tensor([i,j]).float()) > classification_criteria:\n",
    "            #if i==j :\n",
    "                z[jj,ii] = 1\n",
    "            jj=jj+1\n",
    "        ii=ii+1\n",
    "\n",
    "    fig, ax = plt.subplots()\n",
    "    ax.contourf(xx, yy, z, cmap=cmap, alpha=0.5)\n",
    "\n",
    "    # Get predicted labels on training data and plot\n",
    "    #train_labels = model.predict(X)\n",
    "    #ax.scatter(X[:,0], X[:,1], c=y, cmap=cmap, lw=0)\n",
    "    plt.scatter(feature_set[:,0], feature_set[:,1], c=labels, cmap=plt.cm.winter)"
   ]
  },
  {
   "cell_type": "code",
   "execution_count": 17,
   "metadata": {},
   "outputs": [
    {
     "data": {
      "image/png": "[encoded data removed]",
      "text/plain": [
       "<Figure size 640x480 with 1 Axes>"
      ]
     },
     "metadata": {},
     "output_type": "display_data"
    }
   ],
   "source": [
    "# Define region of interest by data limits\n",
    "#xmin = -1.25 \n",
    "#xmax = 2.25\n",
    "#ymin = -0.75\n",
    "#ymax = 1.25\n",
    "\n",
    "#model - pytorch network\n",
    "\n",
    "draw_decission_boundary(model,-1.25,2.25,-0.75,1.25)"
   ]
  },
  {
   "cell_type": "markdown",
   "metadata": {},
   "source": [
    "## 4. To compare: torch.nn.Sequential \n",
    "\n",
    "To remind, let's we build the same network as in point 3, using torch.nn.Sequential (last class)"
   ]
  },
  {
   "cell_type": "code",
   "execution_count": 18,
   "metadata": {},
   "outputs": [
    {
     "name": "stdout",
     "output_type": "stream",
     "text": [
      "Sequential(\n",
      "  (0): Linear(in_features=2, out_features=5, bias=True)\n",
      "  (1): ReLU()\n",
      "  (2): Linear(in_features=5, out_features=1, bias=True)\n",
      "  (3): ReLU()\n",
      ")\n"
     ]
    }
   ],
   "source": [
    "model = torch.nn.Sequential(\n",
    "    torch.nn.Linear(2,5), \n",
    "    torch.nn.ReLU(),\n",
    "    torch.nn.Linear(5,1),\n",
    "    torch.nn.ReLU()\n",
    ")\n",
    "print(model)"
   ]
  },
  {
   "cell_type": "code",
   "execution_count": 19,
   "metadata": {},
   "outputs": [
    {
     "name": "stdout",
     "output_type": "stream",
     "text": [
      "iter: 0 traning err: 41.0 validation err: 41.0\n",
      "iter: 100 traning err: 41.0 validation err: 41.0\n",
      "iter: 200 traning err: 41.0 validation err: 41.0\n",
      "iter: 300 traning err: 41.0 validation err: 41.0\n",
      "iter: 400 traning err: 41.0 validation err: 41.0\n",
      "iter: 500 traning err: 41.0 validation err: 41.0\n",
      "iter: 600 traning err: 41.0 validation err: 41.0\n",
      "iter: 700 traning err: 41.0 validation err: 41.0\n",
      "iter: 800 traning err: 41.0 validation err: 41.0\n",
      "iter: 900 traning err: 41.0 validation err: 41.0\n",
      "iter: 1000 traning err: 41.0 validation err: 41.0\n",
      "iter: 2000 traning err: 41.0 validation err: 41.0\n",
      "iter: 3000 traning err: 41.0 validation err: 41.0\n",
      "iter: 4000 traning err: 41.0 validation err: 41.0\n",
      "iter: 5000 traning err: 41.0 validation err: 41.0\n",
      "iter: 6000 traning err: 41.0 validation err: 41.0\n",
      "iter: 7000 traning err: 41.0 validation err: 41.0\n",
      "iter: 8000 traning err: 41.0 validation err: 41.0\n",
      "iter: 9000 traning err: 41.0 validation err: 41.0\n",
      "iter: 10000 traning err: 41.0 validation err: 41.0\n",
      "iter: 11000 traning err: 41.0 validation err: 41.0\n",
      "iter: 12000 traning err: 41.0 validation err: 41.0\n",
      "iter: 13000 traning err: 41.0 validation err: 41.0\n",
      "iter: 14000 traning err: 41.0 validation err: 41.0\n",
      "iter: 15000 traning err: 41.0 validation err: 41.0\n",
      "iter: 16000 traning err: 41.0 validation err: 41.0\n",
      "iter: 17000 traning err: 41.0 validation err: 41.0\n",
      "iter: 18000 traning err: 41.0 validation err: 41.0\n",
      "iter: 19000 traning err: 41.0 validation err: 41.0\n",
      "Test error: 18.0\n"
     ]
    },
    {
     "data": {
      "image/png": "[encoded data removed]",
      "text/plain": [
       "<Figure size 640x480 with 1 Axes>"
      ]
     },
     "metadata": {},
     "output_type": "display_data"
    },
    {
     "data": {
      "image/png": "[encoded data removed]",
      "text/plain": [
       "<Figure size 640x480 with 1 Axes>"
      ]
     },
     "metadata": {},
     "output_type": "display_data"
    }
   ],
   "source": [
    "train_err,valid_err = training(model,X_train,y_train,X_valid,y_valid,X_test,y_test)\n",
    "plot_training(train_err,valid_err)\n",
    "draw_decission_boundary(model,-1.25,2.25,-0.75,1.25)"
   ]
  },
  {
   "cell_type": "markdown",
   "metadata": {},
   "source": [
    "<div class=\"alert alert-block alert-info\">\n",
    "    <b>Conclussion</b> Look at training figure. Observe training curve -training loss should decrease (or in case of fluctuation general trend should be decrease). Validation loss should decrease, but at some point may increase. Valiedation error means how good the network recognise new unseen data points. If validation error increase means that network is overtrained. Training should be stopped. More commlex network : ie. more neurons in hidden layers (layers befor last layer), or more layers can convey complexity of problem. But too complex network can be overtrained more.</div>"
   ]
  },
  {
   "cell_type": "markdown",
   "metadata": {},
   "source": [
    "You may also name the layers if you need (this doesn't change network operation, only may help in printing, inspecting complicated structure)"
   ]
  },
  {
   "cell_type": "code",
   "execution_count": 20,
   "metadata": {},
   "outputs": [
    {
     "name": "stdout",
     "output_type": "stream",
     "text": [
      "Sequential(\n",
      "  (linear layer 1): Linear(in_features=2, out_features=5, bias=True)\n",
      "  (relu1): ReLU()\n",
      "  (linear2): Linear(in_features=5, out_features=1, bias=True)\n",
      "  (relu2): ReLU()\n",
      ")\n"
     ]
    }
   ],
   "source": [
    "from collections import OrderedDict\n",
    "\n",
    "model = torch.nn.Sequential(OrderedDict([\n",
    "    ('linear layer 1',torch.nn.Linear(2,5)), \n",
    "    ('relu1',torch.nn.ReLU()),\n",
    "    ('linear2',torch.nn.Linear(5,1)),\n",
    "    ('relu2',torch.nn.ReLU())\n",
    "]))\n",
    "print(model)"
   ]
  },
  {
   "cell_type": "markdown",
   "metadata": {},
   "source": [
    "## 5.Comparison of networks with different number of layers ###\n",
    "\n",
    "3 layers"
   ]
  },
  {
   "cell_type": "code",
   "execution_count": 21,
   "metadata": {},
   "outputs": [],
   "source": [
    "class Net2(torch.nn.Module):\n",
    "\n",
    "  def __init__(self): \n",
    "        super(Net2, self).__init__()\n",
    "        self.linear1 = torch.nn.Linear(2, 5)\n",
    "        self.linear2 = torch.nn.Linear(5, 5)\n",
    "        self.linear3 = torch.nn.Linear(5, 1)\n",
    "\n",
    "  def forward(self, x):\n",
    "\n",
    "        x = F.relu(self.linear1(x)) \n",
    "        x = F.relu(self.linear2(x))\n",
    "        y_out = F.relu(self.linear3(x))\n",
    "        return y_out "
   ]
  },
  {
   "cell_type": "code",
   "execution_count": 22,
   "metadata": {},
   "outputs": [],
   "source": [
    "# model=Net2()\n",
    "# paste here code for training and figures"
   ]
  },
  {
   "cell_type": "markdown",
   "metadata": {},
   "source": [
    "1 neuron"
   ]
  },
  {
   "cell_type": "code",
   "execution_count": 23,
   "metadata": {},
   "outputs": [],
   "source": [
    "class Net3(torch.nn.Module):\n",
    "\n",
    "  def __init__(self):   # def __init__(self,n_inp,n_out) ->  model=Net3(2,1)\n",
    "        super().__init__()\n",
    "        self.linear1 = torch.nn.Linear(2, 1)\n",
    "\n",
    "  def forward(self, x):\n",
    "\n",
    "        y_out = F.relu(self.linear1(x))\n",
    "        return y_out "
   ]
  },
  {
   "cell_type": "code",
   "execution_count": 24,
   "metadata": {},
   "outputs": [],
   "source": [
    "# paste here code for training and figures"
   ]
  },
  {
   "cell_type": "markdown",
   "metadata": {},
   "source": [
    "## 6. Debugging"
   ]
  },
  {
   "cell_type": "markdown",
   "metadata": {},
   "source": [
    "In section 3 we told, that you may add for example print(x.shape) in forward() method. To see actual shape of vector, or point ,where network still works.\n",
    "\n",
    "Debugging of `Sequential` structure is a bit more difficult. If there is disagreement between ie. output of layer 1, and input of layer 2, you will see an error during training. Example error coud be\n",
    "```\n",
    "mat1 and mat2 shapes cannot be multiplied (80x5 and 4x1)\n",
    "```\n",
    "You may guess, which layer gives you 5 outputs, and wich layer has 4 inputs. Like in below code"
   ]
  },
  {
   "cell_type": "code",
   "execution_count": 25,
   "metadata": {},
   "outputs": [],
   "source": [
    "model = torch.nn.Sequential(\n",
    "    torch.nn.Linear(2,5),\n",
    "    torch.nn.ReLU(),\n",
    "    torch.nn.Linear(4,1),\n",
    "    torch.nn.ReLU()\n",
    ")"
   ]
  },
  {
   "cell_type": "code",
   "execution_count": 26,
   "metadata": {
    "scrolled": true
   },
   "outputs": [
    {
     "ename": "RuntimeError",
     "evalue": "mat1 and mat2 shapes cannot be multiplied (80x5 and 4x1)",
     "output_type": "error",
     "traceback": [
      "\u001b[0;31m---------------------------------------------------------------------------\u001b[0m",
      "\u001b[0;31mRuntimeError\u001b[0m                              Traceback (most recent call last)",
      "Cell \u001b[0;32mIn [26], line 1\u001b[0m\n\u001b[0;32m----> 1\u001b[0m train_err,valid_err \u001b[38;5;241m=\u001b[39m \u001b[43mtraining\u001b[49m\u001b[43m(\u001b[49m\u001b[43mmodel\u001b[49m\u001b[43m,\u001b[49m\u001b[43mX_train\u001b[49m\u001b[43m,\u001b[49m\u001b[43my_train\u001b[49m\u001b[43m,\u001b[49m\u001b[43mX_valid\u001b[49m\u001b[43m,\u001b[49m\u001b[43my_valid\u001b[49m\u001b[43m,\u001b[49m\u001b[43mX_test\u001b[49m\u001b[43m,\u001b[49m\u001b[43my_test\u001b[49m\u001b[43m)\u001b[49m\n",
      "Cell \u001b[0;32mIn [9], line 11\u001b[0m, in \u001b[0;36mtraining\u001b[0;34m(model, X_train, y_train, X_valid, y_valid, X_test, y_test)\u001b[0m\n\u001b[1;32m      7\u001b[0m optimizer \u001b[38;5;241m=\u001b[39m torch\u001b[38;5;241m.\u001b[39moptim\u001b[38;5;241m.\u001b[39mSGD(model\u001b[38;5;241m.\u001b[39mparameters(), lr\u001b[38;5;241m=\u001b[39m\u001b[38;5;241m1e-3\u001b[39m) \u001b[38;5;66;03m#Adam\u001b[39;00m\n\u001b[1;32m      9\u001b[0m \u001b[38;5;28;01mfor\u001b[39;00m t \u001b[38;5;129;01min\u001b[39;00m \u001b[38;5;28mrange\u001b[39m(\u001b[38;5;241m20000\u001b[39m):\n\u001b[1;32m     10\u001b[0m     \u001b[38;5;66;03m# Forward pass: Compute predicted y by passing x to the model\u001b[39;00m\n\u001b[0;32m---> 11\u001b[0m     y_pred \u001b[38;5;241m=\u001b[39m \u001b[43mmodel\u001b[49m\u001b[43m(\u001b[49m\u001b[43mX_train\u001b[49m\u001b[43m)\u001b[49m\n\u001b[1;32m     13\u001b[0m     \u001b[38;5;66;03m# Compute and print loss\u001b[39;00m\n\u001b[1;32m     14\u001b[0m     loss \u001b[38;5;241m=\u001b[39m criterion(y_pred, y_train)\n",
      "File \u001b[0;32m/opt/tljh/user/lib/python3.9/site-packages/torch/nn/modules/module.py:1511\u001b[0m, in \u001b[0;36mModule._wrapped_call_impl\u001b[0;34m(self, *args, **kwargs)\u001b[0m\n\u001b[1;32m   1509\u001b[0m     \u001b[38;5;28;01mreturn\u001b[39;00m \u001b[38;5;28mself\u001b[39m\u001b[38;5;241m.\u001b[39m_compiled_call_impl(\u001b[38;5;241m*\u001b[39margs, \u001b[38;5;241m*\u001b[39m\u001b[38;5;241m*\u001b[39mkwargs)  \u001b[38;5;66;03m# type: ignore[misc]\u001b[39;00m\n\u001b[1;32m   1510\u001b[0m \u001b[38;5;28;01melse\u001b[39;00m:\n\u001b[0;32m-> 1511\u001b[0m     \u001b[38;5;28;01mreturn\u001b[39;00m \u001b[38;5;28;43mself\u001b[39;49m\u001b[38;5;241;43m.\u001b[39;49m\u001b[43m_call_impl\u001b[49m\u001b[43m(\u001b[49m\u001b[38;5;241;43m*\u001b[39;49m\u001b[43margs\u001b[49m\u001b[43m,\u001b[49m\u001b[43m \u001b[49m\u001b[38;5;241;43m*\u001b[39;49m\u001b[38;5;241;43m*\u001b[39;49m\u001b[43mkwargs\u001b[49m\u001b[43m)\u001b[49m\n",
      "File \u001b[0;32m/opt/tljh/user/lib/python3.9/site-packages/torch/nn/modules/module.py:1520\u001b[0m, in \u001b[0;36mModule._call_impl\u001b[0;34m(self, *args, **kwargs)\u001b[0m\n\u001b[1;32m   1515\u001b[0m \u001b[38;5;66;03m# If we don't have any hooks, we want to skip the rest of the logic in\u001b[39;00m\n\u001b[1;32m   1516\u001b[0m \u001b[38;5;66;03m# this function, and just call forward.\u001b[39;00m\n\u001b[1;32m   1517\u001b[0m \u001b[38;5;28;01mif\u001b[39;00m \u001b[38;5;129;01mnot\u001b[39;00m (\u001b[38;5;28mself\u001b[39m\u001b[38;5;241m.\u001b[39m_backward_hooks \u001b[38;5;129;01mor\u001b[39;00m \u001b[38;5;28mself\u001b[39m\u001b[38;5;241m.\u001b[39m_backward_pre_hooks \u001b[38;5;129;01mor\u001b[39;00m \u001b[38;5;28mself\u001b[39m\u001b[38;5;241m.\u001b[39m_forward_hooks \u001b[38;5;129;01mor\u001b[39;00m \u001b[38;5;28mself\u001b[39m\u001b[38;5;241m.\u001b[39m_forward_pre_hooks\n\u001b[1;32m   1518\u001b[0m         \u001b[38;5;129;01mor\u001b[39;00m _global_backward_pre_hooks \u001b[38;5;129;01mor\u001b[39;00m _global_backward_hooks\n\u001b[1;32m   1519\u001b[0m         \u001b[38;5;129;01mor\u001b[39;00m _global_forward_hooks \u001b[38;5;129;01mor\u001b[39;00m _global_forward_pre_hooks):\n\u001b[0;32m-> 1520\u001b[0m     \u001b[38;5;28;01mreturn\u001b[39;00m \u001b[43mforward_call\u001b[49m\u001b[43m(\u001b[49m\u001b[38;5;241;43m*\u001b[39;49m\u001b[43margs\u001b[49m\u001b[43m,\u001b[49m\u001b[43m \u001b[49m\u001b[38;5;241;43m*\u001b[39;49m\u001b[38;5;241;43m*\u001b[39;49m\u001b[43mkwargs\u001b[49m\u001b[43m)\u001b[49m\n\u001b[1;32m   1522\u001b[0m \u001b[38;5;28;01mtry\u001b[39;00m:\n\u001b[1;32m   1523\u001b[0m     result \u001b[38;5;241m=\u001b[39m \u001b[38;5;28;01mNone\u001b[39;00m\n",
      "File \u001b[0;32m/opt/tljh/user/lib/python3.9/site-packages/torch/nn/modules/container.py:217\u001b[0m, in \u001b[0;36mSequential.forward\u001b[0;34m(self, input)\u001b[0m\n\u001b[1;32m    215\u001b[0m \u001b[38;5;28;01mdef\u001b[39;00m\u001b[38;5;250m \u001b[39m\u001b[38;5;21mforward\u001b[39m(\u001b[38;5;28mself\u001b[39m, \u001b[38;5;28minput\u001b[39m):\n\u001b[1;32m    216\u001b[0m     \u001b[38;5;28;01mfor\u001b[39;00m module \u001b[38;5;129;01min\u001b[39;00m \u001b[38;5;28mself\u001b[39m:\n\u001b[0;32m--> 217\u001b[0m         \u001b[38;5;28minput\u001b[39m \u001b[38;5;241m=\u001b[39m \u001b[43mmodule\u001b[49m\u001b[43m(\u001b[49m\u001b[38;5;28;43minput\u001b[39;49m\u001b[43m)\u001b[49m\n\u001b[1;32m    218\u001b[0m     \u001b[38;5;28;01mreturn\u001b[39;00m \u001b[38;5;28minput\u001b[39m\n",
      "File \u001b[0;32m/opt/tljh/user/lib/python3.9/site-packages/torch/nn/modules/module.py:1511\u001b[0m, in \u001b[0;36mModule._wrapped_call_impl\u001b[0;34m(self, *args, **kwargs)\u001b[0m\n\u001b[1;32m   1509\u001b[0m     \u001b[38;5;28;01mreturn\u001b[39;00m \u001b[38;5;28mself\u001b[39m\u001b[38;5;241m.\u001b[39m_compiled_call_impl(\u001b[38;5;241m*\u001b[39margs, \u001b[38;5;241m*\u001b[39m\u001b[38;5;241m*\u001b[39mkwargs)  \u001b[38;5;66;03m# type: ignore[misc]\u001b[39;00m\n\u001b[1;32m   1510\u001b[0m \u001b[38;5;28;01melse\u001b[39;00m:\n\u001b[0;32m-> 1511\u001b[0m     \u001b[38;5;28;01mreturn\u001b[39;00m \u001b[38;5;28;43mself\u001b[39;49m\u001b[38;5;241;43m.\u001b[39;49m\u001b[43m_call_impl\u001b[49m\u001b[43m(\u001b[49m\u001b[38;5;241;43m*\u001b[39;49m\u001b[43margs\u001b[49m\u001b[43m,\u001b[49m\u001b[43m \u001b[49m\u001b[38;5;241;43m*\u001b[39;49m\u001b[38;5;241;43m*\u001b[39;49m\u001b[43mkwargs\u001b[49m\u001b[43m)\u001b[49m\n",
      "File \u001b[0;32m/opt/tljh/user/lib/python3.9/site-packages/torch/nn/modules/module.py:1520\u001b[0m, in \u001b[0;36mModule._call_impl\u001b[0;34m(self, *args, **kwargs)\u001b[0m\n\u001b[1;32m   1515\u001b[0m \u001b[38;5;66;03m# If we don't have any hooks, we want to skip the rest of the logic in\u001b[39;00m\n\u001b[1;32m   1516\u001b[0m \u001b[38;5;66;03m# this function, and just call forward.\u001b[39;00m\n\u001b[1;32m   1517\u001b[0m \u001b[38;5;28;01mif\u001b[39;00m \u001b[38;5;129;01mnot\u001b[39;00m (\u001b[38;5;28mself\u001b[39m\u001b[38;5;241m.\u001b[39m_backward_hooks \u001b[38;5;129;01mor\u001b[39;00m \u001b[38;5;28mself\u001b[39m\u001b[38;5;241m.\u001b[39m_backward_pre_hooks \u001b[38;5;129;01mor\u001b[39;00m \u001b[38;5;28mself\u001b[39m\u001b[38;5;241m.\u001b[39m_forward_hooks \u001b[38;5;129;01mor\u001b[39;00m \u001b[38;5;28mself\u001b[39m\u001b[38;5;241m.\u001b[39m_forward_pre_hooks\n\u001b[1;32m   1518\u001b[0m         \u001b[38;5;129;01mor\u001b[39;00m _global_backward_pre_hooks \u001b[38;5;129;01mor\u001b[39;00m _global_backward_hooks\n\u001b[1;32m   1519\u001b[0m         \u001b[38;5;129;01mor\u001b[39;00m _global_forward_hooks \u001b[38;5;129;01mor\u001b[39;00m _global_forward_pre_hooks):\n\u001b[0;32m-> 1520\u001b[0m     \u001b[38;5;28;01mreturn\u001b[39;00m \u001b[43mforward_call\u001b[49m\u001b[43m(\u001b[49m\u001b[38;5;241;43m*\u001b[39;49m\u001b[43margs\u001b[49m\u001b[43m,\u001b[49m\u001b[43m \u001b[49m\u001b[38;5;241;43m*\u001b[39;49m\u001b[38;5;241;43m*\u001b[39;49m\u001b[43mkwargs\u001b[49m\u001b[43m)\u001b[49m\n\u001b[1;32m   1522\u001b[0m \u001b[38;5;28;01mtry\u001b[39;00m:\n\u001b[1;32m   1523\u001b[0m     result \u001b[38;5;241m=\u001b[39m \u001b[38;5;28;01mNone\u001b[39;00m\n",
      "File \u001b[0;32m/opt/tljh/user/lib/python3.9/site-packages/torch/nn/modules/linear.py:116\u001b[0m, in \u001b[0;36mLinear.forward\u001b[0;34m(self, input)\u001b[0m\n\u001b[1;32m    115\u001b[0m \u001b[38;5;28;01mdef\u001b[39;00m\u001b[38;5;250m \u001b[39m\u001b[38;5;21mforward\u001b[39m(\u001b[38;5;28mself\u001b[39m, \u001b[38;5;28minput\u001b[39m: Tensor) \u001b[38;5;241m-\u001b[39m\u001b[38;5;241m>\u001b[39m Tensor:\n\u001b[0;32m--> 116\u001b[0m     \u001b[38;5;28;01mreturn\u001b[39;00m \u001b[43mF\u001b[49m\u001b[38;5;241;43m.\u001b[39;49m\u001b[43mlinear\u001b[49m\u001b[43m(\u001b[49m\u001b[38;5;28;43minput\u001b[39;49m\u001b[43m,\u001b[49m\u001b[43m \u001b[49m\u001b[38;5;28;43mself\u001b[39;49m\u001b[38;5;241;43m.\u001b[39;49m\u001b[43mweight\u001b[49m\u001b[43m,\u001b[49m\u001b[43m \u001b[49m\u001b[38;5;28;43mself\u001b[39;49m\u001b[38;5;241;43m.\u001b[39;49m\u001b[43mbias\u001b[49m\u001b[43m)\u001b[49m\n",
      "\u001b[0;31mRuntimeError\u001b[0m: mat1 and mat2 shapes cannot be multiplied (80x5 and 4x1)"
     ]
    }
   ],
   "source": [
    "train_err,valid_err = training(model,X_train,y_train,X_valid,y_valid,X_test,y_test)"
   ]
  },
  {
   "cell_type": "markdown",
   "metadata": {},
   "source": [
    "Let we make debugging \"module\":"
   ]
  },
  {
   "cell_type": "code",
   "execution_count": null,
   "metadata": {},
   "outputs": [],
   "source": [
    "class Debugging(torch.nn.Module):\n",
    "    def forward(self,x):\n",
    "        print('x=',x.shape)\n",
    "        return x\n",
    "    \n",
    "# or more beatyfully as an std.err stream\n",
    "# import sys\n",
    "# class Debugging(torch.nn.Module):\n",
    "#     def forward(self,x):\n",
    "#         print('x=',x.shape, file=sys.stderr)\n",
    "#         return x"
   ]
  },
  {
   "cell_type": "code",
   "execution_count": null,
   "metadata": {},
   "outputs": [],
   "source": [
    "model = torch.nn.Sequential(\n",
    "    torch.nn.Linear(2,5),\n",
    "    Debugging(),\n",
    "    torch.nn.ReLU(),\n",
    "    torch.nn.Linear(4,1),\n",
    "    torch.nn.ReLU()\n",
    ")"
   ]
  },
  {
   "cell_type": "code",
   "execution_count": null,
   "metadata": {
    "scrolled": true
   },
   "outputs": [],
   "source": [
    "train_err,valid_err = training(model,X_train,y_train,X_valid,y_valid,X_test,y_test)\n",
    "plot_training(train_err,valid_err)\n",
    "draw_decission_boundary(model,-1.25,2.25,-0.75,1.25)"
   ]
  },
  {
   "cell_type": "markdown",
   "metadata": {
    "id": "Hw3ih-wMXWjK"
   },
   "source": [
    "#### **Mandatory exercises** (70% points): \n",
    "\n",
    "**1.** Run the code\n",
    "\n",
    "**2.** Add the code for training and figures in chapter 5, as it was for `Sequential` example (chapter 4). Run this code\n",
    "\n",
    "**Exercises for bigger grade (100% points)** (3 exercises required for this report and `Lab5.ipynb` together).\n",
    "\n",
    "**3.** Compare different networks with different numbers of layers, what did you note? What are your conclussions from  training curves, and what are conclussions from decission boundaries?\n",
    "\n",
    "**4.** Change the structure on any neural network (number of neuron in hidden layer, nonlinear function or - difficult: another layer) Change of number of layers is possible for this exercise, but for other cases than laboratory examples (ie. possible, change activation function, then number of layers, or other number of layers than in laboratory). Try to find better results, than given networks\n",
    "\n",
    "**5.** Make changes in training function and make separate run of traing one choosen network each time(learning rate at least 2 tries, but at least one training with use another parameters of `SGD` optimizer or use another optimizer or loss function. To prove this work you may list of changes - and describe resuts- differences to base case ie:\n",
    "\n",
    "No | Change | Result\n",
    "---|--------|----------\n",
    "1|  lr=...| training was ....\n",
    "2 | lr=... momentum=...  | ....description\n",
    "\n",
    "Or create separate block for changed `training()` function, then block for traing code and drawing figures. Next new block for new version of `training()` . Please write, what you changed. \n",
    "\n",
    "**6.** Extend the visualisation of dataset. In chapter 3 the training set is visualized only. Draw also validation and test set. If possible use other marks for that points to distuinguish such sets. \n",
    "\n",
    "**7.** Create network with residual layers. Such layers take the input not only from previous layer (as y=F(x) ) , but also add with weights the input: y=F(x)+x , you may construct network, which got inputs from previous layer y=F2( \\[ F1(x) x\\]) "
   ]
  },
  {
   "cell_type": "markdown",
   "metadata": {
    "id": "MsWW0wRjxcgt"
   },
   "source": [
    "**Write here, which exercises you did:**"
   ]
  },
  {
   "cell_type": "code",
   "execution_count": null,
   "metadata": {},
   "outputs": [],
   "source": [
    "#I did exercises 1,2,4 in file lab5.ipynb"
   ]
  }
 ],
 "metadata": {
  "colab": {
   "provenance": []
  },
  "kernelspec": {
   "display_name": "Python 3 (ipykernel)",
   "language": "python",
   "name": "python3"
  },
  "language_info": {
   "codemirror_mode": {
    "name": "ipython",
    "version": 3
   },
   "file_extension": ".py",
   "mimetype": "text/x-python",
   "name": "python",
   "nbconvert_exporter": "python",
   "pygments_lexer": "ipython3",
   "version": "3.9.21"
  }
 },
 "nbformat": 4,
 "nbformat_minor": 4
}
